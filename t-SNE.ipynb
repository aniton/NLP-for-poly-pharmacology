{
 "cells": [
  {
   "cell_type": "markdown",
   "metadata": {},
   "source": [
    "### t-SNE of the proteome-average UniRep vector of 4 model organisms (human, mouse, dog, zebrafish)"
   ]
  },
  {
   "cell_type": "code",
   "execution_count": 1,
   "metadata": {},
   "outputs": [],
   "source": [
    "import numpy as np\n",
    "import pandas as pd\n",
    "from sklearn.decomposition import PCA\n",
    "from sklearn.manifold import TSNE\n",
    "import seaborn as sns\n",
    "import matplotlib as mpl\n",
    "import matplotlib.pyplot as plt\n",
    "import sys\n",
    "import random\n",
    "import os\n",
    "import Levenshtein\n",
    "import fastcluster as fc\n",
    "import scipy.cluster.hierarchy as hier\n",
    "import pickle\n",
    "# To allow imports from common directory\n",
    "sys.path.append('../../')\n",
    "from common.plot_style_utils import set_pub_plot_context, rep_names, save_for_pub\n",
    "from common.embedding_tools import lev_dist_matrix, lev_sim_matrix\n",
    "\n",
    "%matplotlib inline\n",
    "random.seed(42)\n",
    "np.random.seed(42)"
   ]
  },
  {
   "cell_type": "markdown",
   "metadata": {},
   "source": [
    "Compute the mean representation within each organism. Use this to hierarchical cluster organisms, and project the mean organism reps into the PCA basis learned from Surge's 100K uniprot sequences."
   ]
  },
  {
   "cell_type": "code",
   "execution_count": 2,
   "metadata": {},
   "outputs": [
    {
     "data": {
      "text/html": [
       "<div>\n",
       "<style scoped>\n",
       "    .dataframe tbody tr th:only-of-type {\n",
       "        vertical-align: middle;\n",
       "    }\n",
       "\n",
       "    .dataframe tbody tr th {\n",
       "        vertical-align: top;\n",
       "    }\n",
       "\n",
       "    .dataframe thead th {\n",
       "        text-align: right;\n",
       "    }\n",
       "</style>\n",
       "<table border=\"1\" class=\"dataframe\">\n",
       "  <thead>\n",
       "    <tr style=\"text-align: right;\">\n",
       "      <th></th>\n",
       "      <th>id</th>\n",
       "      <th>seq</th>\n",
       "      <th>description</th>\n",
       "      <th>name</th>\n",
       "      <th>organism</th>\n",
       "    </tr>\n",
       "  </thead>\n",
       "  <tbody>\n",
       "    <tr>\n",
       "      <th>0</th>\n",
       "      <td>sp|O94910|AGRL1_HUMAN</td>\n",
       "      <td>MARLAAVLWNLCVTAVLVTSATQGLSRAGLPFGLMRRELACEGYPI...</td>\n",
       "      <td>sp|O94910|AGRL1_HUMAN Adhesion G protein-coupl...</td>\n",
       "      <td>sp|O94910|AGRL1_HUMAN</td>\n",
       "      <td>human</td>\n",
       "    </tr>\n",
       "    <tr>\n",
       "      <th>1</th>\n",
       "      <td>sp|Q80TR1|AGRL1_MOUSE</td>\n",
       "      <td>MARLAAALWSLCVTTVLVTSATQGLSRAGLPFGLMRRELACEGYPI...</td>\n",
       "      <td>sp|Q80TR1|AGRL1_MOUSE Adhesion G protein-coupl...</td>\n",
       "      <td>sp|Q80TR1|AGRL1_MOUSE</td>\n",
       "      <td>mouse</td>\n",
       "    </tr>\n",
       "    <tr>\n",
       "      <th>2</th>\n",
       "      <td>sp|P28222|5HT1B_HUMAN</td>\n",
       "      <td>MEEPGAQCAPPPPAGSETWVPQANLSSAPSQNCSAKDYIYQDSISL...</td>\n",
       "      <td>sp|P28222|5HT1B_HUMAN 5-hydroxytryptamine rece...</td>\n",
       "      <td>sp|P28222|5HT1B_HUMAN</td>\n",
       "      <td>human</td>\n",
       "    </tr>\n",
       "    <tr>\n",
       "      <th>3</th>\n",
       "      <td>sp|P79250|5HT1B_CANLF</td>\n",
       "      <td>MEAAGAPCAPPPPAGSQTGAPPANLSSAPHNCSAEGYIYQDSVALP...</td>\n",
       "      <td>sp|P79250|5HT1B_CANLF 5-hydroxytryptamine rece...</td>\n",
       "      <td>sp|P79250|5HT1B_CANLF</td>\n",
       "      <td>dog</td>\n",
       "    </tr>\n",
       "    <tr>\n",
       "      <th>4</th>\n",
       "      <td>sp|P28334|5HT1B_MOUSE</td>\n",
       "      <td>MEEQGIQCAPPPPAASQTGVPLTNLSHNCSADGYIYQDSIALPWKV...</td>\n",
       "      <td>sp|P28334|5HT1B_MOUSE 5-hydroxytryptamine rece...</td>\n",
       "      <td>sp|P28334|5HT1B_MOUSE</td>\n",
       "      <td>mouse</td>\n",
       "    </tr>\n",
       "    <tr>\n",
       "      <th>5</th>\n",
       "      <td>sp|P34969|5HT7R_HUMAN</td>\n",
       "      <td>MMDVNSSGRPDLYGHLRSFLLPEVGRGLPDLSPDGGADPVAGSWAP...</td>\n",
       "      <td>sp|P34969|5HT7R_HUMAN 5-hydroxytryptamine rece...</td>\n",
       "      <td>sp|P34969|5HT7R_HUMAN</td>\n",
       "      <td>human</td>\n",
       "    </tr>\n",
       "    <tr>\n",
       "      <th>6</th>\n",
       "      <td>sp|P32304|5HT7R_MOUSE</td>\n",
       "      <td>MMDVNSSGRPDLYGHLRSLILPEVGRRLQDLSPDGGAHSVVSSWMP...</td>\n",
       "      <td>sp|P32304|5HT7R_MOUSE 5-hydroxytryptamine rece...</td>\n",
       "      <td>sp|P32304|5HT7R_MOUSE</td>\n",
       "      <td>mouse</td>\n",
       "    </tr>\n",
       "    <tr>\n",
       "      <th>7</th>\n",
       "      <td>sp|Q9HBW9|AGRL4_HUMAN</td>\n",
       "      <td>MKRLPLLVVFSTLLNCSYTQNCTKTPCLPNAKCEIRNGIEACYCNM...</td>\n",
       "      <td>sp|Q9HBW9|AGRL4_HUMAN Adhesion G protein-coupl...</td>\n",
       "      <td>sp|Q9HBW9|AGRL4_HUMAN</td>\n",
       "      <td>human</td>\n",
       "    </tr>\n",
       "    <tr>\n",
       "      <th>8</th>\n",
       "      <td>sp|Q923X1|AGRL4_MOUSE</td>\n",
       "      <td>MRLLPLLVGFSTLLNCSYTQNCSKTTCLPNAKCEVHNGVEACFCSQ...</td>\n",
       "      <td>sp|Q923X1|AGRL4_MOUSE Adhesion G protein-coupl...</td>\n",
       "      <td>sp|Q923X1|AGRL4_MOUSE</td>\n",
       "      <td>mouse</td>\n",
       "    </tr>\n",
       "    <tr>\n",
       "      <th>9</th>\n",
       "      <td>sp|Q7SY09|AGRL4_DANRE</td>\n",
       "      <td>MKLLLFAAWFSSLLDPCRFLDICQSCHPNADCDDICKCRTGYTGNG...</td>\n",
       "      <td>sp|Q7SY09|AGRL4_DANRE Adhesion G protein-coupl...</td>\n",
       "      <td>sp|Q7SY09|AGRL4_DANRE</td>\n",
       "      <td>zebrafish</td>\n",
       "    </tr>\n",
       "  </tbody>\n",
       "</table>\n",
       "</div>"
      ],
      "text/plain": [
       "                      id                                                seq  \\\n",
       "0  sp|O94910|AGRL1_HUMAN  MARLAAVLWNLCVTAVLVTSATQGLSRAGLPFGLMRRELACEGYPI...   \n",
       "1  sp|Q80TR1|AGRL1_MOUSE  MARLAAALWSLCVTTVLVTSATQGLSRAGLPFGLMRRELACEGYPI...   \n",
       "2  sp|P28222|5HT1B_HUMAN  MEEPGAQCAPPPPAGSETWVPQANLSSAPSQNCSAKDYIYQDSISL...   \n",
       "3  sp|P79250|5HT1B_CANLF  MEAAGAPCAPPPPAGSQTGAPPANLSSAPHNCSAEGYIYQDSVALP...   \n",
       "4  sp|P28334|5HT1B_MOUSE  MEEQGIQCAPPPPAASQTGVPLTNLSHNCSADGYIYQDSIALPWKV...   \n",
       "5  sp|P34969|5HT7R_HUMAN  MMDVNSSGRPDLYGHLRSFLLPEVGRGLPDLSPDGGADPVAGSWAP...   \n",
       "6  sp|P32304|5HT7R_MOUSE  MMDVNSSGRPDLYGHLRSLILPEVGRRLQDLSPDGGAHSVVSSWMP...   \n",
       "7  sp|Q9HBW9|AGRL4_HUMAN  MKRLPLLVVFSTLLNCSYTQNCTKTPCLPNAKCEIRNGIEACYCNM...   \n",
       "8  sp|Q923X1|AGRL4_MOUSE  MRLLPLLVGFSTLLNCSYTQNCSKTTCLPNAKCEVHNGVEACFCSQ...   \n",
       "9  sp|Q7SY09|AGRL4_DANRE  MKLLLFAAWFSSLLDPCRFLDICQSCHPNADCDDICKCRTGYTGNG...   \n",
       "\n",
       "                                         description                   name  \\\n",
       "0  sp|O94910|AGRL1_HUMAN Adhesion G protein-coupl...  sp|O94910|AGRL1_HUMAN   \n",
       "1  sp|Q80TR1|AGRL1_MOUSE Adhesion G protein-coupl...  sp|Q80TR1|AGRL1_MOUSE   \n",
       "2  sp|P28222|5HT1B_HUMAN 5-hydroxytryptamine rece...  sp|P28222|5HT1B_HUMAN   \n",
       "3  sp|P79250|5HT1B_CANLF 5-hydroxytryptamine rece...  sp|P79250|5HT1B_CANLF   \n",
       "4  sp|P28334|5HT1B_MOUSE 5-hydroxytryptamine rece...  sp|P28334|5HT1B_MOUSE   \n",
       "5  sp|P34969|5HT7R_HUMAN 5-hydroxytryptamine rece...  sp|P34969|5HT7R_HUMAN   \n",
       "6  sp|P32304|5HT7R_MOUSE 5-hydroxytryptamine rece...  sp|P32304|5HT7R_MOUSE   \n",
       "7  sp|Q9HBW9|AGRL4_HUMAN Adhesion G protein-coupl...  sp|Q9HBW9|AGRL4_HUMAN   \n",
       "8  sp|Q923X1|AGRL4_MOUSE Adhesion G protein-coupl...  sp|Q923X1|AGRL4_MOUSE   \n",
       "9  sp|Q7SY09|AGRL4_DANRE Adhesion G protein-coupl...  sp|Q7SY09|AGRL4_DANRE   \n",
       "\n",
       "    organism  \n",
       "0      human  \n",
       "1      mouse  \n",
       "2      human  \n",
       "3        dog  \n",
       "4      mouse  \n",
       "5      human  \n",
       "6      mouse  \n",
       "7      human  \n",
       "8      mouse  \n",
       "9  zebrafish  "
      ]
     },
     "execution_count": 2,
     "metadata": {},
     "output_type": "execute_result"
    }
   ],
   "source": [
    "meta = pd.read_csv(\"/Users/aniton/Documents/iMolecule/data/meta.csv\")\n",
    "meta.columns =[\"id\", \"seq\", \"description\", \"name\", \"organism\"]\n",
    "meta"
   ]
  },
  {
   "cell_type": "markdown",
   "metadata": {},
   "source": [
    "#### UniRep модель для представления gpcr в каждом протеоме"
   ]
  },
  {
   "cell_type": "code",
   "execution_count": 3,
   "metadata": {},
   "outputs": [
    {
     "data": {
      "text/plain": [
       "memmap([[ 0.00409179, -0.02905684,  0.05819068, ..., -0.00640377,\n",
       "          0.05548698,  0.03035289],\n",
       "        [ 0.0080851 , -0.00502201,  0.04631828, ..., -0.00594639,\n",
       "          0.09829481, -0.00456978],\n",
       "        [ 0.00619606,  0.12493809,  0.13175243, ...,  0.08588191,\n",
       "         -0.01561721,  0.07642487],\n",
       "        ...,\n",
       "        [ 0.00378827, -0.03524483,  0.04061274, ...,  0.03318325,\n",
       "          0.02388165,  0.06336185],\n",
       "        [ 0.0031024 , -0.00694551,  0.07315227, ...,  0.04098549,\n",
       "         -0.13327664,  0.24890031],\n",
       "        [ 0.00289314, -0.02245093,  0.04616727, ...,  0.02191218,\n",
       "          0.08017933, -0.00907807]], dtype=float32)"
      ]
     },
     "execution_count": 3,
     "metadata": {},
     "output_type": "execute_result"
    }
   ],
   "source": [
    "reps = np.memmap(\"/Users/aniton/Documents/iMolecule/data/avg_hidden_full_53.memnpy\",\n",
    "                     mode=\"r\",\n",
    "                     dtype=np.float32,\n",
    "                     shape=(10, 1900)\n",
    "                     )\n",
    "reps"
   ]
  },
  {
   "cell_type": "code",
   "execution_count": 4,
   "metadata": {},
   "outputs": [
    {
     "data": {
      "text/plain": [
       "['human', 'mouse', 'dog', 'zebrafish']"
      ]
     },
     "execution_count": 4,
     "metadata": {},
     "output_type": "execute_result"
    }
   ],
   "source": [
    "organisms = meta.organism.unique().tolist()\n",
    "organisms"
   ]
  },
  {
   "cell_type": "markdown",
   "metadata": {},
   "source": [
    "#### (t-SNE) projection of average UniRep representations"
   ]
  },
  {
   "cell_type": "code",
   "execution_count": 5,
   "metadata": {},
   "outputs": [
    {
     "data": {
      "text/html": [
       "<div>\n",
       "<style scoped>\n",
       "    .dataframe tbody tr th:only-of-type {\n",
       "        vertical-align: middle;\n",
       "    }\n",
       "\n",
       "    .dataframe tbody tr th {\n",
       "        vertical-align: top;\n",
       "    }\n",
       "\n",
       "    .dataframe thead th {\n",
       "        text-align: right;\n",
       "    }\n",
       "</style>\n",
       "<table border=\"1\" class=\"dataframe\">\n",
       "  <thead>\n",
       "    <tr style=\"text-align: right;\">\n",
       "      <th></th>\n",
       "      <th>mean_rep</th>\n",
       "    </tr>\n",
       "    <tr>\n",
       "      <th>organism</th>\n",
       "      <th></th>\n",
       "    </tr>\n",
       "  </thead>\n",
       "  <tbody>\n",
       "    <tr>\n",
       "      <th>human</th>\n",
       "      <td>[0.004102793, 0.027897034, 0.080792, -0.021301...</td>\n",
       "    </tr>\n",
       "    <tr>\n",
       "      <th>mouse</th>\n",
       "      <td>[0.0045489008, -0.00036625017, 0.07418914, -0....</td>\n",
       "    </tr>\n",
       "    <tr>\n",
       "      <th>dog</th>\n",
       "      <td>[0.00600221, -0.042912822, 0.027700389, -0.007...</td>\n",
       "    </tr>\n",
       "    <tr>\n",
       "      <th>zebrafish</th>\n",
       "      <td>[0.0028931366, -0.022450926, 0.04616727, -0.01...</td>\n",
       "    </tr>\n",
       "  </tbody>\n",
       "</table>\n",
       "</div>"
      ],
      "text/plain": [
       "                                                    mean_rep\n",
       "organism                                                    \n",
       "human      [0.004102793, 0.027897034, 0.080792, -0.021301...\n",
       "mouse      [0.0045489008, -0.00036625017, 0.07418914, -0....\n",
       "dog        [0.00600221, -0.042912822, 0.027700389, -0.007...\n",
       "zebrafish  [0.0028931366, -0.022450926, 0.04616727, -0.01..."
      ]
     },
     "execution_count": 5,
     "metadata": {},
     "output_type": "execute_result"
    }
   ],
   "source": [
    "organism_means = pd.DataFrame({\n",
    "    \"organism\":organisms,\n",
    "    \"mean_rep\":[np.mean(\n",
    "                        reps[meta.organism == o],\n",
    "                        axis=0\n",
    "                       ) for o in organisms]\n",
    "}\n",
    ").set_index(\"organism\")\n",
    "organism_means"
   ]
  },
  {
   "cell_type": "code",
   "execution_count": 6,
   "metadata": {},
   "outputs": [],
   "source": [
    "def label_point(x, y, val, ax, fontsize=20):\n",
    "    a = pd.concat({'x': x, 'y': y, 'val': val}, axis=1)\n",
    "    for i, point in a.iterrows():\n",
    "        ax.text(point['x']+.02, point['y'], str(point['val']),\n",
    "               fontsize=fontsize)"
   ]
  },
  {
   "cell_type": "code",
   "execution_count": 7,
   "metadata": {},
   "outputs": [],
   "source": [
    "# Now lets try TSNE\n",
    "tsne = TSNE(n_components=2, perplexity=12, random_state=42)\n",
    "components = tsne.fit_transform(organism_means.mean_rep.tolist())"
   ]
  },
  {
   "cell_type": "code",
   "execution_count": 8,
   "metadata": {
    "scrolled": true
   },
   "outputs": [
    {
     "data": {
      "image/png": "[encoded data removed]",
      "text/plain": [
       "<Figure size 360x360 with 1 Axes>"
      ]
     },
     "metadata": {},
     "output_type": "display_data"
    }
   ],
   "source": [
    "set_pub_plot_context()\n",
    "fig = plt.figure(figsize=(5,5))\n",
    "ax = fig.add_subplot(111)\n",
    "x = components[:,0]\n",
    "y = components[:,1]\n",
    "sns.regplot(x=x, y=y, fit_reg=False, ax=ax)\n",
    "label_point(pd.Series(x),pd.Series(y),\n",
    "            pd.Series(organism_means.index.values)\n",
    "            ,ax, fontsize=20)"
   ]
  },
  {
   "cell_type": "code",
   "execution_count": 9,
   "metadata": {},
   "outputs": [
    {
     "data": {
      "text/plain": [
       "array(['human', 'mouse', 'dog', 'zebrafish'], dtype=object)"
      ]
     },
     "execution_count": 9,
     "metadata": {},
     "output_type": "execute_result"
    }
   ],
   "source": [
    "organism_means.index.values"
   ]
  },
  {
   "cell_type": "code",
   "execution_count": 10,
   "metadata": {},
   "outputs": [],
   "source": [
    "domain = {\n",
    "    'celegans':\"Eukarya\", \n",
    "    'drosophila':\"Eukarya\", \n",
    "    'ecoliK12':\"Bacteria\", \n",
    "    'human':\"Eukarya\", \n",
    "    'mouse':\"Eukarya\", \n",
    "    'yeast':\"Eukarya\",\n",
    "    'afischeri':\"Bacteria\", \n",
    "    'anolis_carolinensis':\"Eukarya\", \n",
    "    'aspergillus_nidulans':\"Eukarya\",\n",
    "    'athaliana':\"Eukarya\", \n",
    "    'azotobacter_vinelandii':\"Bacteria\", \n",
    "    'bsubtilis168':\"Bacteria\",\n",
    "    'cavia_porcellus':\"Eukarya\", \n",
    "    'chicken':\"Eukarya\", \n",
    "    'coprinopsis_cinerea':\"Eukarya\", \n",
    "    'cow':\"Eukarya\",\n",
    "    'creinhardtii':\"Eukarya\", \n",
    "    'cryptococcus_neoformans':\"Eukarya\", \n",
    "    'cyanothecePCC7822':\"Bacteria\",\n",
    "    'dog':\"Eukarya\", \n",
    "    'ehuxleyi':\"Eukarya\", \n",
    "    'halobacterium_salinarum':\"Archaea\", \n",
    "    'haloferax_volcanii':\"Archaea\",\n",
    "    'macaca_mulatta':\"Eukarya\", \n",
    "    'maize':\"Eukarya\", \n",
    "    'methanococcus_maripaludis':\"Archaea\",\n",
    "    'methanosarcina_acetivorans':\"Archaea\", \n",
    "    'mgenitalium':\"Bacteria\", \n",
    "    'mtuberculosis':\"Bacteria\",\n",
    "    'naked_molerat':\"Eukarya\", \n",
    "    'neurospora_crassa':\"Eukarya\", \n",
    "    'oryzias_latipes':\"Eukarya\",\n",
    "    'phage_lambda':\"Virus\", \n",
    "    'physcomitrella_patens':\"Eukarya\", \n",
    "    'pigeon':\"Eukarya\", \n",
    "    'pig_sus_scrofa':\"Eukarya\",\n",
    "    'pristionchus_pacificus':\"Eukarya\", \n",
    "    'prochlorococcus_marinus':\"Bacteria\",\n",
    "    'rice_japonica':\"Eukarya\", \n",
    "    'spombe':\"Eukarya\", \n",
    "    'streptomyces_coelicolor_A32':\"Bacteria\",\n",
    "    'sulfolobus_solfataricus':\"Archaea\", \n",
    "    'SV40':\"Virus\", \n",
    "    'synechocystis_PCC_6803_Kazusa':\"Bacteria\",\n",
    "    't4_phage':\"Virus\", \n",
    "    't7_phage':\"Virus\", \n",
    "    'tetrahymena_thermophila':\"Eukarya\",\n",
    "    'thermococcus_kodakarensis':\"Archaea\", \n",
    "    'tpseudonana':\"Eukarya\", \n",
    "    'ustilago_maydis':\"Eukarya\",\n",
    "    'vaccinia_virus_copenhagen':\"Virus\", \n",
    "    'xenopus_tropicalis':\"Eukarya\", \n",
    "    'zebrafish':\"Eukarya\"\n",
    "}\n",
    "specific_names = {\n",
    "    'celegans':\"Animalia\", \n",
    "    'drosophila':\"Animalia\", \n",
    "    'ecoliK12':\"Bacteria\", \n",
    "    'human':\"Mammalia\", \n",
    "    'mouse':\"Mammalia\", \n",
    "    'yeast':\"Fungi\",\n",
    "    'afischeri':\"Bacteria\", \n",
    "    'anolis_carolinensis':\"Animalia\", \n",
    "    'aspergillus_nidulans':\"Fungi\",\n",
    "    'athaliana':\"Plantae\", \n",
    "    'azotobacter_vinelandii':\"Bacteria\", \n",
    "    'bsubtilis168':\"Bacteria\",\n",
    "    'cavia_porcellus':\"Mammalia\", \n",
    "    'chicken':\"Animalia\", \n",
    "    'coprinopsis_cinerea':\"Fungi\", \n",
    "    'cow':\"Mammalia\",\n",
    "    'creinhardtii':\"Eukarya\", \n",
    "    'cryptococcus_neoformans':\"Fungi\", \n",
    "    'cyanothecePCC7822':\"Cyanobacteria\",\n",
    "    'dog':\"Mammalia\", \n",
    "    'ehuxleyi':\"Eukarya\", \n",
    "    'halobacterium_salinarum':\"Archaea\", \n",
    "    'haloferax_volcanii':\"Archaea\",\n",
    "    'macaca_mulatta':\"Mammalia\", \n",
    "    'maize':\"Plantae\", \n",
    "    'methanococcus_maripaludis':\"Archaea\",\n",
    "    'methanosarcina_acetivorans':\"Archaea\", \n",
    "    'mgenitalium':\"Bacteria\", \n",
    "    'mtuberculosis':\"Bacteria\",\n",
    "    'naked_molerat':\"Mammalia\", \n",
    "    'neurospora_crassa':\"Fungi\", \n",
    "    'oryzias_latipes':\"Animalia\",\n",
    "    'phage_lambda':\"Virus\", \n",
    "    'physcomitrella_patens':\"Plantae\", \n",
    "    'pigeon':\"Animalia\", \n",
    "    'pig_sus_scrofa':\"Mammalia\",\n",
    "    'pristionchus_pacificus':\"Animalia\", \n",
    "    'prochlorococcus_marinus':\"Cyanobacteria\",\n",
    "    'rice_japonica':\"Plantae\", \n",
    "    'spombe':\"Fungi\", \n",
    "    'streptomyces_coelicolor_A32':\"Bacteria\",\n",
    "    'sulfolobus_solfataricus':\"Archaea\", \n",
    "    'SV40':\"Virus\", \n",
    "    'synechocystis_PCC_6803_Kazusa':\"Cyanobacteria\",\n",
    "    't4_phage':\"Virus\", \n",
    "    't7_phage':\"Virus\", \n",
    "    'tetrahymena_thermophila':\"Eukarya\",\n",
    "    'thermococcus_kodakarensis':\"Archaea\", \n",
    "    'tpseudonana':\"Eukarya\", \n",
    "    'ustilago_maydis':\"Fungi\",\n",
    "    'vaccinia_virus_copenhagen':\"Virus\", \n",
    "    'xenopus_tropicalis':\"Animalia\", \n",
    "    'zebrafish':\"Animalia\"\n",
    "}\n"
   ]
  },
  {
   "cell_type": "code",
   "execution_count": 11,
   "metadata": {},
   "outputs": [
    {
     "data": {
      "text/html": [
       "<div>\n",
       "<style scoped>\n",
       "    .dataframe tbody tr th:only-of-type {\n",
       "        vertical-align: middle;\n",
       "    }\n",
       "\n",
       "    .dataframe tbody tr th {\n",
       "        vertical-align: top;\n",
       "    }\n",
       "\n",
       "    .dataframe thead th {\n",
       "        text-align: right;\n",
       "    }\n",
       "</style>\n",
       "<table border=\"1\" class=\"dataframe\">\n",
       "  <thead>\n",
       "    <tr style=\"text-align: right;\">\n",
       "      <th></th>\n",
       "      <th>mean_rep</th>\n",
       "      <th>specific_names</th>\n",
       "    </tr>\n",
       "    <tr>\n",
       "      <th>organism</th>\n",
       "      <th></th>\n",
       "      <th></th>\n",
       "    </tr>\n",
       "  </thead>\n",
       "  <tbody>\n",
       "    <tr>\n",
       "      <th>human</th>\n",
       "      <td>[0.004102793, 0.027897034, 0.080792, -0.021301...</td>\n",
       "      <td>Mammalia</td>\n",
       "    </tr>\n",
       "    <tr>\n",
       "      <th>mouse</th>\n",
       "      <td>[0.0045489008, -0.00036625017, 0.07418914, -0....</td>\n",
       "      <td>Mammalia</td>\n",
       "    </tr>\n",
       "    <tr>\n",
       "      <th>dog</th>\n",
       "      <td>[0.00600221, -0.042912822, 0.027700389, -0.007...</td>\n",
       "      <td>Mammalia</td>\n",
       "    </tr>\n",
       "    <tr>\n",
       "      <th>zebrafish</th>\n",
       "      <td>[0.0028931366, -0.022450926, 0.04616727, -0.01...</td>\n",
       "      <td>Animalia</td>\n",
       "    </tr>\n",
       "  </tbody>\n",
       "</table>\n",
       "</div>"
      ],
      "text/plain": [
       "                                                    mean_rep specific_names\n",
       "organism                                                                   \n",
       "human      [0.004102793, 0.027897034, 0.080792, -0.021301...       Mammalia\n",
       "mouse      [0.0045489008, -0.00036625017, 0.07418914, -0....       Mammalia\n",
       "dog        [0.00600221, -0.042912822, 0.027700389, -0.007...       Mammalia\n",
       "zebrafish  [0.0028931366, -0.022450926, 0.04616727, -0.01...       Animalia"
      ]
     },
     "execution_count": 11,
     "metadata": {},
     "output_type": "execute_result"
    }
   ],
   "source": [
    "organism_means['specific_names'] = pd.Series(organism_means.index.values).map(lambda x: specific_names[x]).values\n",
    "organism_means"
   ]
  },
  {
   "cell_type": "code",
   "execution_count": 12,
   "metadata": {},
   "outputs": [
    {
     "data": {
      "text/plain": [
       "array(['Mammalia', 'Animalia'], dtype=object)"
      ]
     },
     "execution_count": 12,
     "metadata": {},
     "output_type": "execute_result"
    }
   ],
   "source": [
    "organism_means.specific_names.unique()"
   ]
  },
  {
   "cell_type": "code",
   "execution_count": 13,
   "metadata": {},
   "outputs": [
    {
     "data": {
      "text/plain": [
       "[Text(0, -400.0, ''),\n",
       " Text(0, -350.0, ''),\n",
       " Text(0, -300.0, ''),\n",
       " Text(0, -250.0, ''),\n",
       " Text(0, -200.0, ''),\n",
       " Text(0, -150.0, ''),\n",
       " Text(0, -100.0, ''),\n",
       " Text(0, -50.0, ''),\n",
       " Text(0, 0.0, ''),\n",
       " Text(0, 50.0, '')]"
      ]
     },
     "execution_count": 13,
     "metadata": {},
     "output_type": "execute_result"
    },
    {
     "data": {
      "image/png": "[encoded data removed]",
      "text/plain": [
       "<Figure size 1000x1000 with 1 Axes>"
      ]
     },
     "metadata": {},
     "output_type": "display_data"
    }
   ],
   "source": [
    "set_pub_plot_context(context=\"notebook\")\n",
    "fig = plt.figure(figsize=(4,4), dpi=250)\n",
    "ax = fig.add_subplot(111)\n",
    "colors = sns.color_palette()\n",
    "names = [\"Mammalia\", \"Animalia\", 'Plantae', 'Fungi', 'Eukarya',\n",
    "        'Archaea', 'Cyanobacteria', 'Bacteria', 'Virus'\n",
    "        ]\n",
    "\n",
    "color_idxs = [0,4,3,2,7,5,6,1,9]\n",
    "colors = [colors[i] for i in color_idxs]\n",
    "for i, name in enumerate(names):\n",
    "    mask = organism_means.specific_names == name\n",
    "    x = components[mask,0]\n",
    "    y = components[mask,1]\n",
    "    sns.regplot(x=x, y=y, fit_reg=False, ax=ax, color=colors[i], label=name, scatter_kws={\"s\":80})\n",
    "    \n",
    "ax.legend(fancybox=True, frameon=True)\n",
    "ax.axes.xaxis.set_ticklabels([])\n",
    "ax.axes.yaxis.set_ticklabels([])"
   ]
  },
  {
   "cell_type": "code",
   "execution_count": 14,
   "metadata": {},
   "outputs": [],
   "source": [
    "organism_mean_full = organism_means.copy()"
   ]
  },
  {
   "cell_type": "code",
   "execution_count": 15,
   "metadata": {},
   "outputs": [],
   "source": [
    "# Now do a PCA just with select model organisms\n",
    "organism_means = organism_mean_full.loc[[\n",
    "    \"human\", \"mouse\",\"dog\", \"zebrafish\"\n",
    "], :]\n",
    "pca = PCA(n_components=2)\n",
    "components = pca.fit_transform(\n",
    "    organism_means.mean_rep.tolist()\n",
    ")"
   ]
  },
  {
   "cell_type": "code",
   "execution_count": 16,
   "metadata": {},
   "outputs": [
    {
     "data": {
      "text/html": [
       "<div>\n",
       "<style scoped>\n",
       "    .dataframe tbody tr th:only-of-type {\n",
       "        vertical-align: middle;\n",
       "    }\n",
       "\n",
       "    .dataframe tbody tr th {\n",
       "        vertical-align: top;\n",
       "    }\n",
       "\n",
       "    .dataframe thead th {\n",
       "        text-align: right;\n",
       "    }\n",
       "</style>\n",
       "<table border=\"1\" class=\"dataframe\">\n",
       "  <thead>\n",
       "    <tr style=\"text-align: right;\">\n",
       "      <th></th>\n",
       "      <th>mean_rep</th>\n",
       "      <th>specific_names</th>\n",
       "    </tr>\n",
       "    <tr>\n",
       "      <th>organism</th>\n",
       "      <th></th>\n",
       "      <th></th>\n",
       "    </tr>\n",
       "  </thead>\n",
       "  <tbody>\n",
       "    <tr>\n",
       "      <th>human</th>\n",
       "      <td>[0.004102793, 0.027897034, 0.080792, -0.021301...</td>\n",
       "      <td>Mammalia</td>\n",
       "    </tr>\n",
       "    <tr>\n",
       "      <th>mouse</th>\n",
       "      <td>[0.0045489008, -0.00036625017, 0.07418914, -0....</td>\n",
       "      <td>Mammalia</td>\n",
       "    </tr>\n",
       "    <tr>\n",
       "      <th>dog</th>\n",
       "      <td>[0.00600221, -0.042912822, 0.027700389, -0.007...</td>\n",
       "      <td>Mammalia</td>\n",
       "    </tr>\n",
       "    <tr>\n",
       "      <th>zebrafish</th>\n",
       "      <td>[0.0028931366, -0.022450926, 0.04616727, -0.01...</td>\n",
       "      <td>Animalia</td>\n",
       "    </tr>\n",
       "  </tbody>\n",
       "</table>\n",
       "</div>"
      ],
      "text/plain": [
       "                                                    mean_rep specific_names\n",
       "organism                                                                   \n",
       "human      [0.004102793, 0.027897034, 0.080792, -0.021301...       Mammalia\n",
       "mouse      [0.0045489008, -0.00036625017, 0.07418914, -0....       Mammalia\n",
       "dog        [0.00600221, -0.042912822, 0.027700389, -0.007...       Mammalia\n",
       "zebrafish  [0.0028931366, -0.022450926, 0.04616727, -0.01...       Animalia"
      ]
     },
     "execution_count": 16,
     "metadata": {},
     "output_type": "execute_result"
    }
   ],
   "source": [
    "organism_means"
   ]
  },
  {
   "cell_type": "code",
   "execution_count": 17,
   "metadata": {},
   "outputs": [
    {
     "data": {
      "text/plain": [
       "[Text(0, -1.5, ''),\n",
       " Text(0, -1.0, ''),\n",
       " Text(0, -0.5, ''),\n",
       " Text(0, 0.0, ''),\n",
       " Text(0, 0.5, ''),\n",
       " Text(0, 1.0, ''),\n",
       " Text(0, 1.5, ''),\n",
       " Text(0, 2.0, '')]"
      ]
     },
     "execution_count": 17,
     "metadata": {},
     "output_type": "execute_result"
    },
    {
     "data": {
      "image/png": "[encoded data removed]",
      "text/plain": [
       "<Figure size 1000x1000 with 1 Axes>"
      ]
     },
     "metadata": {},
     "output_type": "display_data"
    }
   ],
   "source": [
    "set_pub_plot_context()\n",
    "fig = plt.figure(figsize=(4,4), dpi=250)\n",
    "ax = fig.add_subplot(111)\n",
    "x = components[:,0]\n",
    "y = components[:,1]\n",
    "sns.regplot(x=x, y=y, fit_reg=False, ax=ax)\n",
    "pretty_names = ['Human', \n",
    "               'Mouse', 'Dog', 'Zebrafish'\n",
    "               ]\n",
    "label_point(pd.Series(x- .02),pd.Series(y),\n",
    "            pd.Series(pretty_names)\n",
    "            ,ax, fontsize=16)\n",
    "ax.axes.xaxis.set_ticklabels([])\n",
    "ax.axes.yaxis.set_ticklabels([])\n",
    "# Will edit colors and vectors in post"
   ]
  }
 ],
 "metadata": {
  "kernelspec": {
   "display_name": "Python 3",
   "language": "python",
   "name": "python3"
  },
  "language_info": {
   "codemirror_mode": {
    "name": "ipython",
    "version": 3
   },
   "file_extension": ".py",
   "mimetype": "text/x-python",
   "name": "python",
   "nbconvert_exporter": "python",
   "pygments_lexer": "ipython3",
   "version": "3.8.5"
  }
 },
 "nbformat": 4,
 "nbformat_minor": 2
}
