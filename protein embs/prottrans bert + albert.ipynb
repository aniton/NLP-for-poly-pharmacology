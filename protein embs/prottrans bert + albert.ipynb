{
 "cells": [
  {
   "cell_type": "markdown",
   "metadata": {},
   "source": [
    "## ProtTransBertBFDEmbedder and ProtTransAlbertBFDEmbedder"
   ]
  },
  {
   "cell_type": "markdown",
   "metadata": {},
   "source": [
    "https://www.biorxiv.org/content/10.1101/2020.07.12.199554v2.full"
   ]
  },
  {
   "cell_type": "code",
   "execution_count": 70,
   "metadata": {},
   "outputs": [],
   "source": [
    "import numpy as np\n",
    "import sys\n",
    "sys.path.append('/Users/aniton/Downloads/bio_embeddings-develop/bio_embeddings/embed/prottrans_bert_bfd_embedder.py')\n",
    "sys.path.append('/Users/aniton/Downloads/bio_embeddings-develop/bio_embeddings/embed/prottrans_albert_bfd_embedder.py')\n",
    "from prottrans_bert_bfd_embedder import ProtTransBertBFDEmbedder\n",
    "from prottrans_albert_bfd_embedder import ProtTransAlbertBFDEmbedder"
   ]
  },
  {
   "cell_type": "code",
   "execution_count": 71,
   "metadata": {
    "pycharm": {
     "is_executing": false
    }
   },
   "outputs": [],
   "source": [
    "embedders = []\n",
    "sequence = \"MARLAAVLWNLCVTAVLVTSATQGLSRAGLPFGLMRRELACEGYPIELRCPGSDVIMVENANYGRTDDKICDADPFQMENVQCYLPDAFKIMSQRCNNRTQCVVVAGSDAFPDPCPGTYKYLEVQYDCVPYKVEQKVFVCPGTLQKVLEPTSTHESEHQSGAWCKDPLQAGDRIYVMPWIPYRTDTLTEYASWEDYVAARHTTTYRLPNRVDGTGFVVYDGAVFYNKERTRNIVKYDLRTRIKSGETVINTANYHDTSPYRWGGKTDIDLAVDENGLWVIYATEGNNGRLVVSQLNPYTLRFEGTWETGYDKRSASNAFMVCGVLYVLRSVYVDDDSEAAGNRVDYAFNTNANREEPVSLTFPNPYQFISSVDYNPRDNQLYVWNNYFVVRYSLEFGPPDPSAGPATSPPLSTTTTARPTPLTSTASPAATTPLRRAPLTTHPVGAINQLGPDLPPATAPVPSTRRPPAPNLHVSPELFCEPREVRRVQWPATQQGMLVERPCPKGTRGIASFQCLPALGLWNPRGPDLSNCTSPWVNQVAQKIKSGENAANIASELARHTRGSIYAGDVSSSVKLMEQLLDILDAQLQALRPIERESAGKNYNKMHKRERTCKDYIKAVVETVDNLLRPEALESWKDMNATEQVHTATMLLDVLEEGAFLLADNVREPARFLAAKENVVLEVTVLNTEGQVQELVFPQEEYPRKNSIQLSAKTIKQNSRNGVVKVVFILYNNLGLFLSTENATVKLAGEAGPGGPGGASLVVNSQVIAASINKESSRVFLMDPVIFTVAHLEDKNHFNANCSFWNYSERSMLGYWSTQGCRLVESNKTHTTCACSHLTNFAVLMAHREIYQGRINELLLSVITWVGIVISLVCLAICISTFCFLRGLQTDRNTIHKNLCINLFLAELLFLVGIDKTQYEIACPIFAGLLHYFFLAAFSWLCLEGVHLYLLLVEVFESEYSRTKYYYLGGYCFPALVVGIAAAIDYRSYGTEKACWLRVDNYFIWSFIGPVSFVIVVNLVFLMVTLHKMIRSSSVLKPDSSRLDNIKSWALGAIALLFLLGLTWAFGLLFINKESVVMAYLFTTFNAFQGVFIFVFHCALQKKVHKEYSKCLRHSYCCIRSPPGGTHGSLKTSAMRSNTRYYTGTQSRIRRMWNDTVRKQTESSFMAGDINSTPTLNRGTMGNHLLTNPVLQPRGGTSPYNTLIAESVGFNPSSPPVFNSPGSYREPKHPLGGREACGMDTLPLNGNFNNSYSLRSGDFPPGDGGPEPPRGRNLADAAAFEKMIISELVHNNLRGSSSAAKGPPPPEPPVPPVPGGGGEEEAGGPGGADRAEIELLYKALEEPLLLPRAQSVLYQSDLDESESCTAEDGATSRPLSSPPGRDSLYASGANLRDSPSYPDSSPEGPSEALPPPPPAPPGPPEIYYTSRPPALVARNPLQGYYQVRRPSHEGYLAAPGLEGPGPDGDGQMQLVTSL\""
   ]
  },
  {
   "cell_type": "code",
   "execution_count": 72,
   "metadata": {},
   "outputs": [
    {
     "name": "stderr",
     "output_type": "stream",
     "text": [
      "prottrans_albert_bfd.zip: 829MB [00:42, 19.5MB/s]                               \n"
     ]
    }
   ],
   "source": [
    "embedders.append(ProtTransBertBFDEmbedder())\n",
    "embedders.append(ProtTransAlbertBFDEmbedder())"
   ]
  },
  {
   "cell_type": "code",
   "execution_count": 83,
   "metadata": {},
   "outputs": [],
   "source": [
    "embeddings = []\n",
    "for embedder in embedders:\n",
    "    embedding = embedder.embed(sequence)\n",
    "    embeddings.append(embedding)"
   ]
  },
  {
   "cell_type": "code",
   "execution_count": 85,
   "metadata": {},
   "outputs": [],
   "source": [
    "reduced_embeddings = [ProtTransBertBFDEmbedder.reduce_per_protein(e) for e in embeddings]"
   ]
  },
  {
   "cell_type": "code",
   "execution_count": 87,
   "metadata": {},
   "outputs": [
    {
     "name": "stdout",
     "output_type": "stream",
     "text": [
      "(1474, 1024) (1024,)\n",
      "[-0.00281887  0.00321102 -0.0195515  ...  0.02875529 -0.03786881\n",
      " -0.00430101]\n",
      "(1474, 4096) (4096,)\n",
      "[-0.03815628  0.03072774 -0.00141055 ... -0.03673344  0.02878184\n",
      "  0.03267955]\n"
     ]
    }
   ],
   "source": [
    "for (per_amino_acid, per_protein) in zip(embeddings, reduced_embeddings):\n",
    "    print(per_amino_acid.shape, per_protein.shape)\n",
    "    print(per_protein)"
   ]
  }
 ],
 "metadata": {
  "kernelspec": {
   "display_name": "Python 3",
   "language": "python",
   "name": "python3"
  },
  "language_info": {
   "codemirror_mode": {
    "name": "ipython",
    "version": 3
   },
   "file_extension": ".py",
   "mimetype": "text/x-python",
   "name": "python",
   "nbconvert_exporter": "python",
   "pygments_lexer": "ipython3",
   "version": "3.8.4"
  },
  "pycharm": {
   "stem_cell": {
    "cell_type": "raw",
    "metadata": {
     "collapsed": false
    },
    "source": []
   }
  }
 },
 "nbformat": 4,
 "nbformat_minor": 1
}
