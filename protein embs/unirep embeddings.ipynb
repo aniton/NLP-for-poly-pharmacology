{
 "cells": [
  {
   "cell_type": "markdown",
   "metadata": {},
   "source": [
    "### 1900-unit mLSTM"
   ]
  },
  {
   "cell_type": "code",
   "execution_count": 2,
   "metadata": {},
   "outputs": [
    {
     "name": "stdout",
     "output_type": "stream",
     "text": [
      "WARNING:tensorflow:From /usr/local/anaconda3/envs/my-rdkit-env/lib/python3.7/site-packages/tensorflow/python/compat/v2_compat.py:96: disable_resource_variables (from tensorflow.python.ops.variable_scope) is deprecated and will be removed in a future version.\n",
      "Instructions for updating:\n",
      "non-resource variables are not supported in the long term\n"
     ]
    }
   ],
   "source": [
    "import tensorflow.compat.v1 as tf\n",
    "tf.disable_v2_behavior()\n",
    "import sys\n",
    "import numpy as np\n",
    "sys.path.append('/Users/aniton/Documents/GitHub/UniRep')\n",
    "tf.random.set_random_seed(42)\n",
    "np.random.seed(42)\n",
    "!aws s3 sync --no-sign-request --quiet s3://unirep-public/1900_weights/ 1900_weights/\n",
    "from unirep import babbler1900 as babbler\n",
    "MODEL_WEIGHT_PATH = \"./1900_weights\""
   ]
  },
  {
   "cell_type": "code",
   "execution_count": 8,
   "metadata": {},
   "outputs": [
    {
     "name": "stdout",
     "output_type": "stream",
     "text": [
      "WARNING:tensorflow:From /Users/aniton/Documents/GitHub/UniRep-analysis/unirep.py:364: dynamic_rnn (from tensorflow.python.ops.rnn) is deprecated and will be removed in a future version.\n",
      "Instructions for updating:\n",
      "Please use `keras.layers.RNN(cell)`, which is equivalent to this API\n",
      "WARNING:tensorflow:From /usr/local/anaconda3/envs/my-rdkit-env/lib/python3.7/site-packages/tensorflow/python/util/dispatch.py:201: calling l2_normalize (from tensorflow.python.ops.nn_impl) with dim is deprecated and will be removed in a future version.\n",
      "Instructions for updating:\n",
      "dim is deprecated, use axis instead\n",
      "WARNING:tensorflow:From /Users/aniton/Documents/GitHub/UniRep-analysis/unirep.py:31: Categorical.__init__ (from tensorflow.python.ops.distributions.categorical) is deprecated and will be removed after 2019-01-01.\n",
      "Instructions for updating:\n",
      "The TensorFlow Distributions library has moved to TensorFlow Probability (https://github.com/tensorflow/probability). You should update all references to use `tfp.distributions` instead of `tf.distributions`.\n",
      "WARNING:tensorflow:From /usr/local/anaconda3/envs/my-rdkit-env/lib/python3.7/site-packages/tensorflow/python/ops/distributions/categorical.py:242: Distribution.__init__ (from tensorflow.python.ops.distributions.distribution) is deprecated and will be removed after 2019-01-01.\n",
      "Instructions for updating:\n",
      "The TensorFlow Distributions library has moved to TensorFlow Probability (https://github.com/tensorflow/probability). You should update all references to use `tfp.distributions` instead of `tf.distributions`.\n",
      "WARNING:tensorflow:From /usr/local/anaconda3/envs/my-rdkit-env/lib/python3.7/site-packages/tensorflow/python/util/dispatch.py:201: multinomial (from tensorflow.python.ops.random_ops) is deprecated and will be removed in a future version.\n",
      "Instructions for updating:\n",
      "Use `tf.random.categorical` instead.\n"
     ]
    },
    {
     "name": "stderr",
     "output_type": "stream",
     "text": [
      "/usr/local/anaconda3/envs/my-rdkit-env/lib/python3.7/site-packages/tensorflow/python/keras/engine/base_layer_v1.py:1719: UserWarning: `layer.apply` is deprecated and will be removed in a future version. Please use `layer.__call__` method instead.\n",
      "  warnings.warn('`layer.apply` is deprecated and '\n"
     ]
    }
   ],
   "source": [
    "from tf_slim.layers import layers as _layers\n",
    "batch_size = 12\n",
    "b = babbler(batch_size=batch_size, model_path=MODEL_WEIGHT_PATH)"
   ]
  },
  {
   "cell_type": "markdown",
   "metadata": {},
   "source": [
    "### 5-hydroxytryptamine receptor 7"
   ]
  },
  {
   "cell_type": "code",
   "execution_count": 9,
   "metadata": {},
   "outputs": [],
   "source": [
    "seq = \"MMDVNSSGRPDLYGHLRSFLLPEVGRGLPDLSPDGGADPVAGSWAPHLLSEVTASPAPTWDAPPDNASGCGEQINYGRVEKVVIGSILTLITLLTIAGNCLVVISVCFVKKLRQPSNYLIVSLALADLSVAVAVMPFVSVTDLIGGKWIFGHFFCNVFIAMDVMCCTASIMTLCVISIDRYLGITRPLTYPVRQNGKCMAKMILSVWLLSASITLPPLFGWAQNVNDDKVCLISQDFGYTIYSTAVAFYIPMSVMLFMYYQIYKAARKSAAKHKFPGFPRVEPDSVIALNGIVKLQKEVEECANLSRLLKHERKNISIFKREQKAATTLGIIVGAFTVCWLPFFLLSTARPFICGTSCSCIPLWVERTFLWLGYANSLINPFIYAFFNRDLRTTYRSLLQCQYRNINRKLSAAGMHEALKLAERPERPEFVLRACTRRVLLRPEKRPPVSVWVLQSPDHHNWLADKMLTTVEKKVMIHD\""
   ]
  },
  {
   "cell_type": "markdown",
   "metadata": {},
   "source": [
    "#### average hidden representation"
   ]
  },
  {
   "cell_type": "code",
   "execution_count": 12,
   "metadata": {},
   "outputs": [],
   "source": [
    "a = b.get_rep(seq)"
   ]
  },
  {
   "cell_type": "code",
   "execution_count": 13,
   "metadata": {},
   "outputs": [
    {
     "data": {
      "text/plain": [
       "array([ 0.06724703, -0.0280663 ,  0.04971798, ...,  0.0425435 ,\n",
       "        0.01492667, -0.04463214], dtype=float32)"
      ]
     },
     "execution_count": 13,
     "metadata": {},
     "output_type": "execute_result"
    }
   ],
   "source": [
    "a[0]"
   ]
  },
  {
   "cell_type": "markdown",
   "metadata": {},
   "source": [
    "#### final hidden representation"
   ]
  },
  {
   "cell_type": "code",
   "execution_count": 14,
   "metadata": {},
   "outputs": [
    {
     "data": {
      "text/plain": [
       "array([ 0.00021911, -0.0279364 ,  0.03211641, ...,  0.03563059,\n",
       "        0.03723566,  0.02737938], dtype=float32)"
      ]
     },
     "execution_count": 14,
     "metadata": {},
     "output_type": "execute_result"
    }
   ],
   "source": [
    "a[1]"
   ]
  },
  {
   "cell_type": "markdown",
   "metadata": {},
   "source": [
    "####  final cell representation"
   ]
  },
  {
   "cell_type": "code",
   "execution_count": 15,
   "metadata": {},
   "outputs": [
    {
     "data": {
      "text/plain": [
       "array([ 4.509942  , -3.30547   ,  4.23504   , ...,  2.6672964 ,\n",
       "        3.543985  ,  0.81329435], dtype=float32)"
      ]
     },
     "execution_count": 15,
     "metadata": {},
     "output_type": "execute_result"
    }
   ],
   "source": [
    "a[2]"
   ]
  },
  {
   "cell_type": "markdown",
   "metadata": {},
   "source": [
    "### 64-unit mLSTM"
   ]
  },
  {
   "cell_type": "code",
   "execution_count": 3,
   "metadata": {},
   "outputs": [],
   "source": [
    "tf.random.set_random_seed(42)\n",
    "np.random.seed(42)\n",
    "!aws s3 sync --no-sign-request --quiet s3://unirep-public/64_weights/ 64_weights/\n",
    "from unirep import babbler64 as babbler\n",
    "MODEL_WEIGHT_PATH = \"./64_weights\""
   ]
  },
  {
   "cell_type": "code",
   "execution_count": 4,
   "metadata": {},
   "outputs": [
    {
     "name": "stdout",
     "output_type": "stream",
     "text": [
      "WARNING:tensorflow:From /Users/aniton/Documents/GitHub/UniRep-analysis/unirep.py:750: dynamic_rnn (from tensorflow.python.ops.rnn) is deprecated and will be removed in a future version.\n",
      "Instructions for updating:\n",
      "Please use `keras.layers.RNN(cell)`, which is equivalent to this API\n",
      "WARNING:tensorflow:From /usr/local/anaconda3/envs/my-rdkit-env/lib/python3.7/site-packages/tensorflow/python/util/dispatch.py:201: calling l2_normalize (from tensorflow.python.ops.nn_impl) with dim is deprecated and will be removed in a future version.\n",
      "Instructions for updating:\n",
      "dim is deprecated, use axis instead\n",
      "WARNING:tensorflow:From /Users/aniton/Documents/GitHub/UniRep-analysis/unirep.py:31: Categorical.__init__ (from tensorflow.python.ops.distributions.categorical) is deprecated and will be removed after 2019-01-01.\n",
      "Instructions for updating:\n",
      "The TensorFlow Distributions library has moved to TensorFlow Probability (https://github.com/tensorflow/probability). You should update all references to use `tfp.distributions` instead of `tf.distributions`.\n",
      "WARNING:tensorflow:From /usr/local/anaconda3/envs/my-rdkit-env/lib/python3.7/site-packages/tensorflow/python/ops/distributions/categorical.py:242: Distribution.__init__ (from tensorflow.python.ops.distributions.distribution) is deprecated and will be removed after 2019-01-01.\n",
      "Instructions for updating:\n",
      "The TensorFlow Distributions library has moved to TensorFlow Probability (https://github.com/tensorflow/probability). You should update all references to use `tfp.distributions` instead of `tf.distributions`.\n",
      "WARNING:tensorflow:From /usr/local/anaconda3/envs/my-rdkit-env/lib/python3.7/site-packages/tensorflow/python/util/dispatch.py:201: multinomial (from tensorflow.python.ops.random_ops) is deprecated and will be removed in a future version.\n",
      "Instructions for updating:\n",
      "Use `tf.random.categorical` instead.\n"
     ]
    },
    {
     "name": "stderr",
     "output_type": "stream",
     "text": [
      "/usr/local/anaconda3/envs/my-rdkit-env/lib/python3.7/site-packages/tensorflow/python/keras/engine/base_layer_v1.py:1719: UserWarning: `layer.apply` is deprecated and will be removed in a future version. Please use `layer.__call__` method instead.\n",
      "  warnings.warn('`layer.apply` is deprecated and '\n"
     ]
    }
   ],
   "source": [
    "batch_size = 12\n",
    "b = babbler(batch_size=batch_size, model_path=MODEL_WEIGHT_PATH)"
   ]
  },
  {
   "cell_type": "code",
   "execution_count": 5,
   "metadata": {},
   "outputs": [],
   "source": [
    "seq = \"MMDVNSSGRPDLYGHLRSFLLPEVGRGLPDLSPDGGADPVAGSWAPHLLSEVTASPAPTWDAPPDNASGCGEQINYGRVEKVVIGSILTLITLLTIAGNCLVVISVCFVKKLRQPSNYLIVSLALADLSVAVAVMPFVSVTDLIGGKWIFGHFFCNVFIAMDVMCCTASIMTLCVISIDRYLGITRPLTYPVRQNGKCMAKMILSVWLLSASITLPPLFGWAQNVNDDKVCLISQDFGYTIYSTAVAFYIPMSVMLFMYYQIYKAARKSAAKHKFPGFPRVEPDSVIALNGIVKLQKEVEECANLSRLLKHERKNISIFKREQKAATTLGIIVGAFTVCWLPFFLLSTARPFICGTSCSCIPLWVERTFLWLGYANSLINPFIYAFFNRDLRTTYRSLLQCQYRNINRKLSAAGMHEALKLAERPERPEFVLRACTRRVLLRPEKRPPVSVWVLQSPDHHNWLADKMLTTVEKKVMIHD\""
   ]
  },
  {
   "cell_type": "code",
   "execution_count": 6,
   "metadata": {},
   "outputs": [],
   "source": [
    "a = b.get_rep(seq)"
   ]
  },
  {
   "cell_type": "markdown",
   "metadata": {},
   "source": [
    "#### average hidden, final hidden, final cell representation arrays"
   ]
  },
  {
   "cell_type": "code",
   "execution_count": 7,
   "metadata": {},
   "outputs": [
    {
     "name": "stdout",
     "output_type": "stream",
     "text": [
      "(array([-0.02442052,  0.12668233,  0.05974412, -0.96180606, -0.01348389,\n",
      "       -0.2072217 ,  0.11382031,  0.14564557,  0.45236623, -0.07579868,\n",
      "        0.15168576,  0.15382348, -0.00178124,  0.12680867, -0.04980928,\n",
      "       -0.07084481, -0.9031778 ,  0.03589629,  0.14066233, -0.54970723,\n",
      "       -0.08650241,  0.29881725, -0.32411703, -0.21963464,  0.14390944,\n",
      "       -0.05468214, -0.05563748,  0.06209938,  0.32786408, -0.43265256,\n",
      "        0.10956056,  0.37968376,  0.2716848 , -0.0917405 ,  0.7453777 ,\n",
      "        0.11836982, -0.34010586,  0.07253375,  0.05995105, -0.1473391 ,\n",
      "        0.02390106,  0.16314784, -0.00480597,  0.12641585, -0.18716659,\n",
      "        0.08808956, -0.82002044, -0.22481933,  0.09638377,  0.2260205 ,\n",
      "        0.26296222,  0.03258057, -0.00970771, -0.10038885,  0.14187522,\n",
      "        0.01684602,  0.08079701, -0.01887866, -0.08594517,  0.26949283,\n",
      "       -0.07932065, -0.03368478,  0.46189913, -0.03301748], dtype=float32), array([-0.0284293 ,  0.09124698, -0.10763494, -0.98538315, -0.0546687 ,\n",
      "       -0.18888071,  0.11765283,  0.10793033,  0.3621862 , -0.06891228,\n",
      "        0.11555015,  0.15835539, -0.05660626,  0.07390554, -0.14279999,\n",
      "       -0.03884505, -0.91404855,  0.04083031,  0.12432654, -0.644665  ,\n",
      "       -0.07681368,  0.227335  , -0.27376762, -0.24062176,  0.11427694,\n",
      "       -0.09940876, -0.08282124,  0.06280266,  0.40256566, -0.36543387,\n",
      "        0.13188435,  0.40269947,  0.09887984, -0.04728962,  0.7689684 ,\n",
      "        0.10784007, -0.23983784,  0.0022822 ,  0.01729274, -0.06663921,\n",
      "        0.02450886,  0.06456247, -0.04942945,  0.08983064, -0.12272293,\n",
      "        0.05387701, -0.9082604 , -0.16799673,  0.11376032,  0.17878324,\n",
      "        0.2565006 ,  0.01602371, -0.00903265, -0.0977521 ,  0.0685108 ,\n",
      "        0.00440739,  0.01818987, -0.03138748,  0.00269283,  0.16899148,\n",
      "       -0.07687844, -0.02440893,  0.27986914,  0.01853226], dtype=float32), array([-7.21463412e-02,  3.80299240e-01, -2.10705966e-01, -5.73515511e+00,\n",
      "       -7.87578970e-02, -9.52060521e-01,  7.54670024e-01,  9.58291709e-01,\n",
      "        4.86367136e-01, -2.69666642e-01,  1.51518047e+00,  2.13044262e+00,\n",
      "       -8.45791101e-02,  1.02973066e-01, -1.61035523e-01, -9.42980051e-01,\n",
      "       -1.58673878e+01,  4.33027297e-02,  2.28685546e+00, -3.06003642e+00,\n",
      "       -1.57602251e-01,  3.65286493e+00, -4.24808550e+00, -3.20146370e+00,\n",
      "        3.08587408e+00, -8.13500166e-01, -1.93868160e-01,  1.61775440e-01,\n",
      "        1.11022644e+01, -1.05934401e+01,  2.81663966e+00,  4.47677344e-01,\n",
      "        2.19162560e+00, -8.83025229e-01,  1.65878654e+00,  4.31376815e-01,\n",
      "       -4.63677347e-01,  1.62913091e-02,  5.62806427e-02, -6.62842393e-01,\n",
      "        4.74527702e-02,  1.25576943e-01, -6.69870749e-02,  3.83282989e-01,\n",
      "       -2.50790298e-01,  1.35085714e+00, -2.72788000e+00, -1.82721119e+01,\n",
      "        9.05544400e-01,  7.06639469e-01,  2.87050545e-01,  1.45749748e-01,\n",
      "       -3.95835750e-02, -5.36158681e-01,  8.90765935e-02,  6.33496717e-02,\n",
      "        2.14633569e-02, -9.79982913e-02,  5.30429650e-03,  9.72558975e+00,\n",
      "       -1.23415612e-01, -4.96669039e-02,  3.07005572e+00,  5.09952269e-02],\n",
      "      dtype=float32))\n"
     ]
    }
   ],
   "source": [
    "print(a)"
   ]
  }
],
 "metadata": {
  "kernelspec": {
   "display_name": "Python 3",
   "language": "python",
   "name": "python3"
  },
  "language_info": {
   "codemirror_mode": {
    "name": "ipython",
    "version": 3
   },
   "file_extension": ".py",
   "mimetype": "text/x-python",
   "name": "python",
   "nbconvert_exporter": "python",
   "pygments_lexer": "ipython3",
   "version": "3.8.4"
  },
  "pycharm": {
   "stem_cell": {
    "cell_type": "raw",
    "metadata": {
     "collapsed": false
    },
    "source": []
   }
  }
 },
 "nbformat": 4,
 "nbformat_minor": 1
}
