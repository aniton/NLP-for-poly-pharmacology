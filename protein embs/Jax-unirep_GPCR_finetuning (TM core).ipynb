{
 "cells": [
  {
   "cell_type": "markdown",
   "metadata": {},
   "source": [
    "## Jax-unirep <br> (reimplementation of the UniRep protein featurization model in JAX)"
   ]
  },
  {
   "cell_type": "markdown",
   "metadata": {},
   "source": [
    "## Fine tuning for GPCR family"
   ]
  },
  {
   "cell_type": "code",
   "execution_count": 1,
   "metadata": {},
   "outputs": [
    {
     "name": "stderr",
     "output_type": "stream",
     "text": [
      "/usr/local/lib/python3.8/site-packages/jax/lib/xla_bridge.py:130: UserWarning: No GPU/TPU found, falling back to CPU.\n",
      "  warnings.warn('No GPU/TPU found, falling back to CPU.')\n"
     ]
    }
   ],
   "source": [
    "from jax.random import PRNGKey\n",
    "from jax.experimental.stax import Dense, Softmax, serial\n",
    "\n",
    "from jax_unirep import fit\n",
    "from jax_unirep.evotuning_models import mlstm64\n",
    "from jax_unirep.layers import AAEmbedding, mLSTM, mLSTMHiddenStates"
   ]
  },
  {
   "cell_type": "code",
   "execution_count": 2,
   "metadata": {},
   "outputs": [],
   "source": [
    "import pandas as pd\n",
    "import numpy as np\n",
    "import matplotlib.pyplot as plt\n",
    "%matplotlib inline\n",
    "import seaborn as sns\n",
    "sns.set()"
   ]
  },
  {
   "cell_type": "code",
   "execution_count": 3,
   "metadata": {},
   "outputs": [],
   "source": [
    "from sklearn.linear_model import LogisticRegression\n",
    "from sklearn.multiclass import OneVsRestClassifier\n",
    "from sklearn.linear_model import SGDClassifier\n",
    "from sklearn.neighbors import KNeighborsClassifier\n",
    "from sklearn.metrics import accuracy_score\n",
    "from sklearn.model_selection import cross_val_predict\n",
    "from sklearn.metrics import classification_report\n",
    "from sklearn.linear_model import LogisticRegressionCV\n",
    "import warnings\n",
    "from warnings import simplefilter\n",
    "from sklearn.exceptions import ConvergenceWarning\n",
    "simplefilter(action='ignore', category=ConvergenceWarning)\n",
    "from sklearn.model_selection import train_test_split, StratifiedKFold, GridSearchCV\n",
    "from sklearn.metrics import r2_score, mean_squared_error, mean_absolute_error\n",
    "from sklearn.ensemble import RandomForestRegressor\n",
    "from sklearn.neural_network import MLPRegressor\n",
    "from sklearn.svm import SVR"
   ]
  },
  {
   "cell_type": "markdown",
   "metadata": {},
   "source": [
    "## Sequences (from [InterPro](https://www.ebi.ac.uk/interpro/entry/InterPro/IPR000276/protein/reviewed/#table))"
   ]
  },
  {
   "cell_type": "code",
   "execution_count": 10,
   "metadata": {},
   "outputs": [],
   "source": [
    "#!/usr/bin/env python3\n",
    "\n",
    "# standard library modules\n",
    "import sys, errno, re, json, ssl\n",
    "from urllib import request\n",
    "from urllib.error import HTTPError\n",
    "from time import sleep\n",
    "sequences = []        # reviewed GPCRs\n",
    "sys.stdout = open('stdoutf.csv', 'a')\n",
    "sys.stdout.write(\"name\" + \",\" + \"class\"  + \",\" + \"organism\" + \",\"  + \"sequence\" + \"\\n\")\n",
    "def output_list(BASE_URL, cl):\n",
    "  #disable SSL verification to avoid config issues\n",
    "  context = ssl._create_unverified_context()\n",
    "\n",
    "  next = BASE_URL\n",
    "  last_page = False\n",
    "\n",
    "  \n",
    "  attempts = 0\n",
    "  while next:\n",
    "    try:\n",
    "      req = request.Request(next, headers={\"Accept\": \"application/json\"})\n",
    "      res = request.urlopen(req, context=context)\n",
    "      # If the API times out due a long running query\n",
    "      if res.status == 408:\n",
    "        # wait just over a minute\n",
    "        sleep(61)\n",
    "        # then continue this loop with the same URL\n",
    "        continue\n",
    "      elif res.status == 204:\n",
    "        #no data so leave loop\n",
    "        break\n",
    "      payload = json.loads(res.read().decode())\n",
    "      next = payload[\"next\"]\n",
    "      attempts = 0\n",
    "      if not next:\n",
    "        last_page = True\n",
    "    except HTTPError as e:\n",
    "      if e.code == 408:\n",
    "        sleep(61)\n",
    "        continue\n",
    "      else:\n",
    "        # If there is a different HTTP error, it wil re-try 3 times before failing\n",
    "        if attempts < 3:\n",
    "          attempts += 1\n",
    "          sleep(61)\n",
    "          continue\n",
    "        else:\n",
    "          sys.stderr.write(\"LAST URL: \" + next)\n",
    "          raise e\n",
    "    for i, item in enumerate(payload[\"results\"]):\n",
    "         seq = item[\"extra_fields\"][\"sequence\"]\n",
    "         if item[\"metadata\"][\"name\"].find(\"Olfactory\") == -1: # exclude Olfactory \n",
    "            sys.stdout.write(item[\"metadata\"][\"name\"] + \",\" + str(cl) + \",\" + item[\"metadata\"][\"source_organism\"][\"scientificName\"] + \",\"  + seq + \"\\n\")\n",
    "      # Don't overload the server, give it time before asking for more\n",
    "    if next:\n",
    "      sleep(1)\n"
   ]
  },
  {
   "cell_type": "markdown",
   "metadata": {},
   "source": [
    "#### Links for different classes:"
   ]
  },
  {
   "cell_type": "code",
   "execution_count": 11,
   "metadata": {},
   "outputs": [],
   "source": [
    "urls = []\n",
    "urls.append(\"https://www.ebi.ac.uk:443/interpro/api/protein/reviewed/entry/InterPro/IPR000276/?page_size=200&extra_fields=sequence\")\n",
    "urls.append(\"https://www.ebi.ac.uk:443/interpro/api/protein/reviewed/entry/InterPro/IPR000832/?page_size=200&extra_fields=sequence\")\n",
    "urls.append(\"https://www.ebi.ac.uk:443/interpro/api/protein/reviewed/entry/InterPro/IPR000337/?page_size=200&extra_fields=sequence\")\n",
    "urls.append(\"https://www.ebi.ac.uk:443/interpro/api/protein/reviewed/entry/cdd/CD14939/?page_size=200&extra_fields=sequence\")\n",
    "urls.append(\"https://www.ebi.ac.uk:443/interpro/api/protein/reviewed/entry/InterPro/IPR015526/?page_size=200&extra_fields=sequence\")\n",
    "urls.append(\"https://www.ebi.ac.uk:443/interpro/api/protein/reviewed/entry/InterPro/IPR007960/?page_size=200&extra_fields=sequence\")\n",
    "urls.append(\"https://www.ebi.ac.uk:443/interpro/api/protein/reviewed/entry/InterPro/IPR009637/?page_size=200&extra_fields=sequence\")\n",
    "urls.append(\"https://www.ebi.ac.uk:443/interpro/api/protein/reviewed/entry/InterPro/IPR029723/?page_size=200&extra_fields=sequence\")\n",
    "urls.append(\"https://www.ebi.ac.uk:443/interpro/api/protein/reviewed/entry/InterPro/IPR018781/?page_size=200&extra_fields=sequence\")\n",
    "urls.append(\"https://www.ebi.ac.uk:443/interpro/api/protein/reviewed/entry/InterPro/IPR001414/?page_size=200&extra_fields=sequence\")\n"
   ]
  },
  {
   "cell_type": "code",
   "execution_count": 12,
   "metadata": {},
   "outputs": [],
   "source": [
    "for i, url in enumerate(urls):\n",
    "    if i < 6:\n",
    "        output_list(url, i + 1)\n",
    "    else:\n",
    "        output_list(url, 7)"
   ]
  },
  {
   "cell_type": "markdown",
   "metadata": {},
   "source": [
    "### Adding TMcore"
   ]
  },
  {
   "cell_type": "markdown",
   "metadata": {},
   "source": [
    "In data folder:\n",
    "\n",
    "- human_msa.fasta msa of the cut sequences from gpcrdb.org\n",
    "- msa.fasta msa of all the cut sequences from Interpro\n",
    "- stdoutf.csv "
   ]
  },
  {
   "cell_type": "code",
   "execution_count": 5,
   "metadata": {
    "scrolled": true
   },
   "outputs": [],
   "source": [
    "from Bio import SeqIO\n",
    "fields = []\n",
    "df = pd.read_csv('stdoutf.csv')\n",
    "for record in SeqIO.parse(\"msa.fasta\", \"fasta\"):\n",
    "       fields.append(str(record.seq))\n",
    "df[\"TMcore\"]  = fields"
   ]
  },
  {
   "cell_type": "code",
   "execution_count": 6,
   "metadata": {},
   "outputs": [
    {
     "data": {
      "text/html": [
       "<div>\n",
       "<style scoped>\n",
       "    .dataframe tbody tr th:only-of-type {\n",
       "        vertical-align: middle;\n",
       "    }\n",
       "\n",
       "    .dataframe tbody tr th {\n",
       "        vertical-align: top;\n",
       "    }\n",
       "\n",
       "    .dataframe thead th {\n",
       "        text-align: right;\n",
       "    }\n",
       "</style>\n",
       "<table border=\"1\" class=\"dataframe\">\n",
       "  <thead>\n",
       "    <tr style=\"text-align: right;\">\n",
       "      <th></th>\n",
       "      <th>name</th>\n",
       "      <th>class</th>\n",
       "      <th>organism</th>\n",
       "      <th>sequence</th>\n",
       "      <th>TMcore</th>\n",
       "    </tr>\n",
       "  </thead>\n",
       "  <tbody>\n",
       "    <tr>\n",
       "      <th>0</th>\n",
       "      <td>Gastrin/cholecystokinin type B receptor</td>\n",
       "      <td>1</td>\n",
       "      <td>Sus scrofa</td>\n",
       "      <td>MELLKLNRSLPGPGPGAALCRPEGPLLNGSGAGNLSCEPPRIRGAG...</td>\n",
       "      <td>MNLSCEPPRIRGAGTRELELAVRITLYAA-IFLMSVAGNVLIIVVL...</td>\n",
       "    </tr>\n",
       "    <tr>\n",
       "      <th>1</th>\n",
       "      <td>G-protein coupled receptor 22</td>\n",
       "      <td>1</td>\n",
       "      <td>Danio rerio</td>\n",
       "      <td>MESMPSSLTHQRFGLLNKHLTRTGNTREGRMHTPPVLGFQAIMSNV...</td>\n",
       "      <td>MEEPLDFEMDLKTPYPVSFQVSLTGFLML-EIVLGLSSNLTVLALY...</td>\n",
       "    </tr>\n",
       "    <tr>\n",
       "      <th>2</th>\n",
       "      <td>Apelin receptor B</td>\n",
       "      <td>1</td>\n",
       "      <td>Danio rerio</td>\n",
       "      <td>MNAMDNMTADYSPDYFDDAVNSSMCEYDEWEPSYSLIPVLYMLIFI...</td>\n",
       "      <td>MNADAVNSSMCEYDEWEPSYSLIPVLYML-IFILGLTGNGVVIFTV...</td>\n",
       "    </tr>\n",
       "    <tr>\n",
       "      <th>3</th>\n",
       "      <td>N-arachidonyl glycine receptor</td>\n",
       "      <td>1</td>\n",
       "      <td>Rattus norvegicus</td>\n",
       "      <td>MAIPSNRDQLALSNGSHPEEYKIAALVFYSCIFLIGLLVNVTALWV...</td>\n",
       "      <td>MASNRDQLALSNGSHPEEYKIAALVFYSC-IFLIGLLVNVTALWVF...</td>\n",
       "    </tr>\n",
       "    <tr>\n",
       "      <th>4</th>\n",
       "      <td>Neuropeptide CCHamide-1 receptor</td>\n",
       "      <td>1</td>\n",
       "      <td>Drosophila melanogaster</td>\n",
       "      <td>MIANLVSMETDLAMNIGLDTSGEAPTALPPMPNVTETLWDLAMVVS...</td>\n",
       "      <td>MSELVTTETPYVPYGRRPETYIVPILFAL-IFVVGVLGNGTLIVVF...</td>\n",
       "    </tr>\n",
       "  </tbody>\n",
       "</table>\n",
       "</div>"
      ],
      "text/plain": [
       "                                      name  class                 organism  \\\n",
       "0  Gastrin/cholecystokinin type B receptor      1               Sus scrofa   \n",
       "1            G-protein coupled receptor 22      1              Danio rerio   \n",
       "2                        Apelin receptor B      1              Danio rerio   \n",
       "3           N-arachidonyl glycine receptor      1        Rattus norvegicus   \n",
       "4         Neuropeptide CCHamide-1 receptor      1  Drosophila melanogaster   \n",
       "\n",
       "                                            sequence  \\\n",
       "0  MELLKLNRSLPGPGPGAALCRPEGPLLNGSGAGNLSCEPPRIRGAG...   \n",
       "1  MESMPSSLTHQRFGLLNKHLTRTGNTREGRMHTPPVLGFQAIMSNV...   \n",
       "2  MNAMDNMTADYSPDYFDDAVNSSMCEYDEWEPSYSLIPVLYMLIFI...   \n",
       "3  MAIPSNRDQLALSNGSHPEEYKIAALVFYSCIFLIGLLVNVTALWV...   \n",
       "4  MIANLVSMETDLAMNIGLDTSGEAPTALPPMPNVTETLWDLAMVVS...   \n",
       "\n",
       "                                              TMcore  \n",
       "0  MNLSCEPPRIRGAGTRELELAVRITLYAA-IFLMSVAGNVLIIVVL...  \n",
       "1  MEEPLDFEMDLKTPYPVSFQVSLTGFLML-EIVLGLSSNLTVLALY...  \n",
       "2  MNADAVNSSMCEYDEWEPSYSLIPVLYML-IFILGLTGNGVVIFTV...  \n",
       "3  MASNRDQLALSNGSHPEEYKIAALVFYSC-IFLIGLLVNVTALWVF...  \n",
       "4  MSELVTTETPYVPYGRRPETYIVPILFAL-IFVVGVLGNGTLIVVF...  "
      ]
     },
     "execution_count": 6,
     "metadata": {},
     "output_type": "execute_result"
    }
   ],
   "source": [
    "df.head()"
   ]
  },
  {
   "cell_type": "markdown",
   "metadata": {},
   "source": [
    "## Pre-build model architecture \n",
    "\n",
    " `mlstm64` model.\n"
   ]
  },
  {
   "cell_type": "code",
   "execution_count": 7,
   "metadata": {},
   "outputs": [
    {
     "data": {
      "application/vnd.jupyter.widget-view+json": {
       "model_id": "01d717db4fe54b27a36e277fcfa232ff",
       "version_major": 2,
       "version_minor": 0
      },
      "text/plain": [
       "HBox(children=(HTML(value='right-padding sequences'), FloatProgress(value=0.0, max=2484.0), HTML(value='')))"
      ]
     },
     "metadata": {},
     "output_type": "display_data"
    },
    {
     "name": "stdout",
     "output_type": "stream",
     "text": [
      "\n"
     ]
    },
    {
     "data": {
      "application/vnd.jupyter.widget-view+json": {
       "model_id": "77c2d2b6817c41178d743b39731642ac",
       "version_major": 2,
       "version_minor": 0
      },
      "text/plain": [
       "HBox(children=(HTML(value=''), FloatProgress(value=0.0, max=1.0), HTML(value='')))"
      ]
     },
     "metadata": {},
     "output_type": "display_data"
    },
    {
     "name": "stderr",
     "output_type": "stream",
     "text": [
      "INFO:evotuning:Random batching done: All sequences padded to max sequence length of 932\n"
     ]
    },
    {
     "name": "stdout",
     "output_type": "stream",
     "text": [
      "\n"
     ]
    },
    {
     "data": {
      "application/vnd.jupyter.widget-view+json": {
       "model_id": "9d287de3598f48d08d402930a4b62b54",
       "version_major": 2,
       "version_minor": 0
      },
      "text/plain": [
       "HBox(children=(HTML(value='Iteration'), FloatProgress(value=0.0, max=198.0), HTML(value='')))"
      ]
     },
     "metadata": {},
     "output_type": "display_data"
    },
    {
     "name": "stderr",
     "output_type": "stream",
     "text": [
      "INFO:evotuning:Calculations for training set:\n",
      "INFO:evotuning:Epoch 0: Estimated average loss: 0.16762538254261017. \n"
     ]
    },
    {
     "name": "stdout",
     "output_type": "stream",
     "text": [
      "created directory at temp\n"
     ]
    },
    {
     "name": "stderr",
     "output_type": "stream",
     "text": [
      "INFO:evotuning:Calculations for training set:\n",
      "INFO:evotuning:Epoch 1: Estimated average loss: 0.16596537828445435. \n"
     ]
    },
    {
     "name": "stdout",
     "output_type": "stream",
     "text": [
      "\n"
     ]
    }
   ],
   "source": [
    "init_fun, apply_fun = mlstm64()\n",
    "\n",
    "# The init_func always requires a PRNGKey,\n",
    "# and input_shape should be set to (-1, 26)\n",
    "# This creates randomly initialized parameters\n",
    "_, params = init_fun(PRNGKey(42), input_shape=(-1, 26))\n",
    "\n",
    "\n",
    "# Now we tune the params.\n",
    "tuned_params = fit(df[\"TMcore\"], n_epochs=2, model_func=apply_fun, params=params)"
   ]
  },
  {
   "cell_type": "markdown",
   "metadata": {},
   "source": [
    "#### I've also tried representations by mlstm256 (256-dimensional vectors) and in fact I found no big difference according to the classification results (see results below)"
   ]
  },
  {
   "cell_type": "code",
   "execution_count": 8,
   "metadata": {},
   "outputs": [],
   "source": [
    "from functools import partial\n",
    "from typing import Callable, Dict, Iterable, List, Optional, Tuple, Union\n",
    "\n",
    "import numpy as np\n",
    "from jax import vmap\n",
    "\n",
    "from jax_unirep.errors import SequenceLengthsError\n",
    "from jax_unirep.utils import (\n",
    "    batch_sequences,\n",
    "    get_embeddings,\n",
    "    load_params,\n",
    "    validate_mLSTM_params,\n",
    ")\n"
   ]
  },
  {
   "cell_type": "code",
   "execution_count": 9,
   "metadata": {},
   "outputs": [],
   "source": [
    "# instantiate the mLSTM\n",
    "def rep_same_lengths(\n",
    "    seqs: Iterable[str], params: Dict, apply_fun: Callable\n",
    ") -> Tuple[np.ndarray, np.ndarray, np.ndarray]:\n",
    "    \"\"\"\n",
    "    This function generates representations of protein sequences that have the same length\n",
    "    \"\"\"\n",
    "\n",
    "    embedded_seqs = get_embeddings(seqs)\n",
    "\n",
    "    h_final, c_final, h = vmap(partial(apply_fun, params))(embedded_seqs)\n",
    "    h_avg = h.mean(axis=1)\n",
    "\n",
    "    return np.array(h_avg), np.array(h_final), np.array(c_final)\n"
   ]
  },
  {
   "cell_type": "code",
   "execution_count": 10,
   "metadata": {},
   "outputs": [],
   "source": [
    "def rep_arbitrary_lengths(\n",
    "    seqs: Iterable[str], params: Dict, apply_fun: Callable, mlstm_size: int\n",
    ") -> Tuple[np.ndarray, np.ndarray, np.ndarray]:\n",
    "    \"\"\"\n",
    "    This function generates representations of protein sequences of arbitrary length\n",
    "    \"\"\"\n",
    "    order = batch_sequences(seqs)\n",
    "    # TODO: Find a better way to do this, without code triplication\n",
    "    ha_list, hf_list, cf_list = [], [], []\n",
    "    # Each list in `order` contains the indexes of all sequences of a\n",
    "    # given length from the original list of sequences.\n",
    "    for idxs in order:\n",
    "        subset = [seqs[i] for i in idxs]\n",
    "\n",
    "        h_avg, h_final, c_final = rep_same_lengths(subset, params, apply_fun)\n",
    "        ha_list.append(h_avg)\n",
    "        hf_list.append(h_final)\n",
    "        cf_list.append(c_final)\n",
    "\n",
    "    h_avg, h_final, c_final = (\n",
    "        np.zeros((len(seqs), mlstm_size)),\n",
    "        np.zeros((len(seqs), mlstm_size)),\n",
    "        np.zeros((len(seqs), mlstm_size)),\n",
    "    )\n",
    "    # Re-order generated reps to match sequence order in the original list.\n",
    "    for i, subset in enumerate(order):\n",
    "        for j, rep in enumerate(subset):\n",
    "            h_avg[rep] = ha_list[i][j]\n",
    "            h_final[rep] = hf_list[i][j]\n",
    "            c_final[rep] = cf_list[i][j]\n",
    "\n",
    "    return h_avg, h_final, c_final\n"
   ]
  },
  {
   "cell_type": "code",
   "execution_count": 11,
   "metadata": {},
   "outputs": [],
   "source": [
    "def get_reps(\n",
    "    seqs: Union[str, Iterable[str]],\n",
    "    params: Optional[Dict] = tuned_params[1],\n",
    "    mlstm_size: Optional[str] = 64,\n",
    ") -> Tuple[np.ndarray, np.ndarray, np.ndarray]:\n",
    "    \"\"\"\n",
    "    Each element of the output 3-tuple is a `np.array`\n",
    "    of shape (n_input_sequences, mlstm_size):\n",
    "    - `h_avg`: Average hidden state of the mLSTM over the whole sequence.\n",
    "    - `h_final`: Final hidden state of the mLSTM\n",
    "    - `c_final`: Final cell state of the mLSTM\n",
    "\"\"\"\n",
    "    _, apply_fun = mLSTM(output_dim=mlstm_size)\n",
    "    if params is None:\n",
    "        params = tuned_params[1]\n",
    "    # Check that params have correct keys and shapes\n",
    "    validate_mLSTM_params(params, n_outputs=mlstm_size)\n",
    "    # If single string sequence is passed, package it into a list\n",
    "    if isinstance(seqs, str):\n",
    "        seqs = [seqs]\n",
    "    # Make sure list is not empty\n",
    "    if len(seqs) == 0:\n",
    "        raise SequenceLengthsError(\"Cannot pass in empty list of sequences.\")\n",
    "\n",
    "    # Differentiate between two cases:\n",
    "    # 1. All sequences in the list have the same length\n",
    "    # 2. There are sequences of different lengths in the list\n",
    "    if len(set([len(s) for s in seqs])) == 1:\n",
    "        h_avg, h_final, c_final = rep_same_lengths(\n",
    "            seqs,\n",
    "            params,\n",
    "            apply_fun,\n",
    "        )\n",
    "        return h_avg, h_final, c_final\n",
    "    else:\n",
    "        h_avg, h_final, c_final = rep_arbitrary_lengths(\n",
    "            seqs, params, apply_fun, mlstm_size\n",
    "        )\n",
    "        return h_avg, h_final, c_final"
   ]
  },
  {
   "cell_type": "markdown",
   "metadata": {},
   "source": [
    "### Representations for GPCRs TM cores"
   ]
  },
  {
   "cell_type": "code",
   "execution_count": 12,
   "metadata": {},
   "outputs": [],
   "source": [
    "fields1 = []\n",
    "for seq in df[\"TMcore\"]:\n",
    "    fields1.append(get_reps(seq)[0])\n",
    "df[\"embs\"]  = fields1"
   ]
  },
  {
   "cell_type": "code",
   "execution_count": 13,
   "metadata": {},
   "outputs": [
    {
     "data": {
      "text/plain": [
       "0       [[0.008311076, 0.002365658, -0.0029429803, -0....\n",
       "1       [[0.008278446, 0.0025310859, -0.0031384525, -0...\n",
       "2       [[0.008318783, 0.002004366, -0.0031882334, -0....\n",
       "3       [[0.008310798, 0.002047191, -0.0032696477, -0....\n",
       "4       [[0.008311579, 0.002151715, -0.0031045913, -0....\n",
       "                              ...                        \n",
       "2479    [[0.008304645, 0.0021230436, -0.0033034435, -0...\n",
       "2480    [[0.0083246315, 0.0013236668, -0.0035572413, -...\n",
       "2481    [[0.008303336, 0.0021339504, -0.0032998412, -0...\n",
       "2482    [[0.00831899, 0.0019768146, -0.0031942346, -0....\n",
       "2483    [[0.008321734, 0.0020802803, -0.0030481943, -0...\n",
       "Name: embs, Length: 2484, dtype: object"
      ]
     },
     "execution_count": 13,
     "metadata": {},
     "output_type": "execute_result"
    }
   ],
   "source": [
    "df[\"embs\"]"
   ]
  },
  {
   "cell_type": "markdown",
   "metadata": {},
   "source": [
    "### Classifications"
   ]
  },
  {
   "cell_type": "code",
   "execution_count": 14,
   "metadata": {},
   "outputs": [],
   "source": [
    "import argparse\n",
    "import sys\n",
    "import os\n",
    "import gzip\n",
    "from collections import Counter\n",
    "\n",
    "import numpy as np\n",
    "from scipy.spatial.distance import cosine\n",
    "from Bio import SeqIO\n",
    "\n",
    "from sklearn import svm\n",
    "from sklearn.model_selection import train_test_split\n",
    "from sklearn.metrics import log_loss\n",
    "from sklearn import preprocessing\n",
    "from sklearn.metrics import roc_auc_score, f1_score, accuracy_score, average_precision_score, coverage_error\n",
    "from sklearn.model_selection import cross_val_score\n"
   ]
  },
  {
   "cell_type": "code",
   "execution_count": 15,
   "metadata": {},
   "outputs": [],
   "source": [
    "X = []\n",
    "for seq in df['embs']:\n",
    "    X.append(seq[0])"
   ]
  },
  {
   "cell_type": "markdown",
   "metadata": {},
   "source": [
    "### Predict the class of GPCR"
   ]
  },
  {
   "cell_type": "code",
   "execution_count": 16,
   "metadata": {},
   "outputs": [],
   "source": [
    "cls = []\n",
    "for cl in df['class']:\n",
    "     cls.append(cl)"
   ]
  },
  {
   "cell_type": "code",
   "execution_count": 17,
   "metadata": {},
   "outputs": [
    {
     "name": "stdout",
     "output_type": "stream",
     "text": [
      "dict_keys([1, 2, 3, 4, 5, 6, 7])\n"
     ]
    },
    {
     "data": {
      "text/plain": [
       "dict_values([1882, 191, 73, 4, 81, 214, 39])"
      ]
     },
     "execution_count": 17,
     "metadata": {},
     "output_type": "execute_result"
    }
   ],
   "source": [
    "from collections import Counter\n",
    "print(Counter(cls).keys()) \n",
    "Counter(cls).values() "
   ]
  },
  {
   "cell_type": "code",
   "execution_count": 41,
   "metadata": {},
   "outputs": [],
   "source": [
    "X = np.asarray(X)"
   ]
  },
  {
   "cell_type": "code",
   "execution_count": 42,
   "metadata": {},
   "outputs": [],
   "source": [
    "vectors_train, vectors_test, cls_train, cls_test = train_test_split(X, \n",
    "                                                                                  cls, \n",
    "                                                                                  test_size=0.1, random_state=42)"
   ]
  },
  {
   "cell_type": "code",
   "execution_count": 52,
   "metadata": {},
   "outputs": [],
   "source": [
    "import xgboost\n",
    "xgb = xgboost.XGBClassifier(objective='multi:softprob')\n"
   ]
  },
  {
   "cell_type": "code",
   "execution_count": 44,
   "metadata": {},
   "outputs": [
    {
     "name": "stderr",
     "output_type": "stream",
     "text": [
      "/usr/local/lib/python3.8/site-packages/xgboost/sklearn.py:888: UserWarning: The use of label encoder in XGBClassifier is deprecated and will be removed in a future release. To remove this warning, do the following: 1) Pass option use_label_encoder=False when constructing XGBClassifier object; and 2) Encode your labels (y) as integers starting with 0, i.e. 0, 1, 2, ..., [num_class - 1].\n",
      "  warnings.warn(label_encoder_deprecation_msg, UserWarning)\n"
     ]
    },
    {
     "name": "stdout",
     "output_type": "stream",
     "text": [
      "[15:29:18] WARNING: /Users/travis/build/dmlc/xgboost/src/learner.cc:1061: Starting in XGBoost 1.3.0, the default evaluation metric used with the objective 'multi:softprob' was changed from 'merror' to 'mlogloss'. Explicitly set eval_metric if you'd like to restore the old behavior.\n"
     ]
    }
   ],
   "source": [
    "xgb.fit(vectors_train, cls_train)\n",
    "test_preds = xgb.predict(vectors_test)"
   ]
  },
  {
   "cell_type": "code",
   "execution_count": 45,
   "metadata": {},
   "outputs": [
    {
     "data": {
      "text/plain": [
       "0.9518072289156626"
      ]
     },
     "execution_count": 45,
     "metadata": {},
     "output_type": "execute_result"
    }
   ],
   "source": [
    "accuracy_score(cls_test, test_preds)"
   ]
  },
  {
   "cell_type": "code",
   "execution_count": 35,
   "metadata": {},
   "outputs": [
    {
     "name": "stderr",
     "output_type": "stream",
     "text": [
      "/usr/local/lib/python3.8/site-packages/sklearn/model_selection/_split.py:670: UserWarning: The least populated class in y has only 4 members, which is less than n_splits=5.\n",
      "  warnings.warn((\"The least populated class in y has only %d\"\n"
     ]
    },
    {
     "name": "stdout",
     "output_type": "stream",
     "text": [
      "Accuracy is 0.7670682730923695\n",
      "[1 3]\n"
     ]
    },
    {
     "name": "stderr",
     "output_type": "stream",
     "text": [
      "/usr/local/lib/python3.8/site-packages/sklearn/model_selection/_split.py:670: UserWarning: The least populated class in y has only 4 members, which is less than n_splits=5.\n",
      "  warnings.warn((\"The least populated class in y has only %d\"\n"
     ]
    },
    {
     "name": "stdout",
     "output_type": "stream",
     "text": [
      "Accuracy is 0.9437751004016064\n",
      "[1 2 3 5 6 7]\n"
     ]
    },
    {
     "data": {
      "text/plain": [
       "{'n_neighbors': 3}"
      ]
     },
     "execution_count": 35,
     "metadata": {},
     "output_type": "execute_result"
    }
   ],
   "source": [
    "kn = KNeighborsClassifier()\n",
    "param_grid = {'n_neighbors': np.arange(3, 25)}\n",
    "models = {\"lr\": LogisticRegressionCV(cv=5, random_state=0, max_iter=500,solver='lbfgs', multi_class='ovr'),\n",
    "          \"kn\": GridSearchCV(kn, param_grid, cv=5)}\n",
    "for model in models:\n",
    "    models[model].fit(vectors_train, cls_train)\n",
    "    y_predicted = models[model].predict(vectors_test)\n",
    "    print('Accuracy is {}'.format(accuracy_score(cls_test, y_predicted)))\n",
    "    print(np.unique(y_predicted))\n",
    "models[\"kn\"].best_params_"
   ]
  },
  {
   "cell_type": "markdown",
   "metadata": {},
   "source": [
    "### Predict the source_organism"
   ]
  },
  {
   "cell_type": "code",
   "execution_count": 46,
   "metadata": {},
   "outputs": [],
   "source": [
    "orgs = []\n",
    "for org in df['organism']:\n",
    "     orgs.append(org)\n",
    "\n",
    "label_encoder = preprocessing.LabelEncoder()\n",
    "label_encoder.fit(orgs)      \n",
    "orgs_encoded = np.array(label_encoder.transform(orgs), dtype=np.int32)"
   ]
  },
  {
   "cell_type": "code",
   "execution_count": 47,
   "metadata": {},
   "outputs": [
    {
     "name": "stdout",
     "output_type": "stream",
     "text": [
      "dict_keys(['Sus scrofa', 'Danio rerio', 'Rattus norvegicus', 'Drosophila melanogaster', 'Mus musculus', 'Oryctolagus cuniculus', 'Mustela putorius furo', 'Bos taurus', 'Homo sapiens', 'Xenopus tropicalis', 'Micropogonias undulatus', 'Salmo salar', 'Branchiostoma floridae', 'Macaca fascicularis', 'Xenopus laevis', 'Caenorhabditis elegans', 'Human cytomegalovirus (strain Merlin)', 'Macaca mulatta', 'Chilo suppressalis', 'Tribolium castaneum', 'Lymnaea stagnalis', 'Manduca sexta', 'Canis lupus familiaris', 'Callithrix jacchus', 'Felis catus', 'Cavia porcellus', 'Rat cytomegalovirus (strain Maastricht)', 'Gallus gallus', 'Saimiri boliviensis boliviensis', 'Conger conger', 'Mizuhopecten yessoensis', 'Sepia officinalis', 'Lacunicambarus ludovicianus', 'Cambarellus shufeldtii', 'Orconectes virilis', 'Procambarus milleri', 'Cambarus hubrichti', 'Cambarus maculatus', 'Orconectes australis', 'Procambarus orcinus', 'Procambarus seminolae', 'Equus caballus', 'Odocoileus virginianus virginianus', 'Amblysomus hottentotus', 'Chlorocebus aethiops', 'Erinaceus europaeus', 'Elephas maximus', 'Macaca nemestrina', 'Macroscelides proboscideus', 'Orycteropus afer', 'Ovis aries', 'Procavia capensis habessinica', 'Talpa europaea', 'Meriones unguiculatus', 'Sciurus carolinensis', 'Takifugu rubripes', 'Ictalurus punctatus', 'Abyssocottus korotneffi', 'Batrachocottus multiradiatus', 'Batrachocottus nikolskii', 'Cottinella boulengeri', 'Comephorus dybowskii', 'Cottocomephorus grewingkii', 'Clarias gariepinus', 'Cottocomephorus inermis', 'Limnocottus bergianus', 'Limnocottus pallidus', 'Procottus jeittelesii', 'Paracottus knerii', 'Taurulus bubalis', 'Petromyzon marinus', 'Zeus faber', 'Melopsittacus undulatus', 'Apis mellifera', 'Cercocebus atys', 'Delphinus delphis', 'Globicephala melas', 'Mesoplodon bidens', 'Phoca vitulina', 'Pagophilus groenlandicus', 'Trichechus manatus', 'Tursiops truncatus', 'Meleagris gallopavo', 'Dugong dugon', 'Didelphis virginiana', 'Echinops telfairi', 'Galeus melastomus', 'Scyliorhinus canicula', 'Trachypithecus francoisi', 'Trachypithecus phayrei', 'Rhinopithecus bieti', 'Pongo pygmaeus', 'Pygathrix nemaeus', 'Nomascus leucogenys', 'Rhinopithecus avunculus', 'Macaca arctoides', 'Mesocricetus auratus', 'Enteroctopus dofleini', 'Human cytomegalovirus (strain AD169)', 'Drosophila virilis', 'Cricetulus griseus', 'Calliphora vicina', 'Astyanax fasciatus', 'Lethenteron camtschaticum', 'Todarodes pacificus', 'Loligo forbesii', 'Drosophila pseudoobscura pseudoobscura', 'Mastomys natalensis', 'Lithobates pipiens', 'Swinepox virus (strain Kasza)', 'Carassius auratus', 'Procambarus clarkii', 'Gekko gecko', 'Limulus polyphemus', 'Sphodromantis sp.', 'Pomatoschistus minutus', 'Anthopleura elegantissima', 'Anolis carolinensis', 'Bombina orientalis', 'Oreochromis mossambicus', 'Phodopus sungorus', 'Lithobates catesbeianus', 'Columba livia', 'Cyprinus carpio', 'Alligator mississippiensis', 'Human herpesvirus 6A (strain Uganda-1102)', 'Human herpesvirus 7 (strain JI)', 'Human herpesvirus 6B (strain Z29)', 'Gorilla gorilla gorilla', 'Pan troglodytes', 'Alces alces alces', 'Capreolus capreolus', 'Capra hircus', 'Cervus elaphus', 'Dama dama', 'Ovibos moschatus', 'Rangifer tarandus', 'Papio hamadryas', 'Papio anubis', 'Spalax ehrenbergi', 'Bufo bufo', 'Rhinella marina', 'Rana temporaria', 'Taeniopygia guttata', 'Pan paniscus', 'Lophocebus aterrimus', 'Pongo abelii', 'Semnopithecus entellus', 'Human cytomegalovirus (strain Towne)', 'Gambusia affinis', 'Myripristis berndti', 'Myripristis violacea', 'Neoniphon argenteus', 'Neoniphon aurolineatus', 'Neoniphon sammara', 'Poecilia reticulata', 'Leucoraja erinacea', 'Sargocentron diadema', 'Sargocentron microstoma', 'Sargocentron punctatissimum', 'Sargocentron spiniferum', 'Sargocentron tiere', 'Sargocentron xantherythrum', 'Oryzias latipes', 'Cricetulus longicaudatus', 'Saimiriine herpesvirus 2 (strain 11)', 'Mammuthus primigenius', 'Vulpes vulpes', 'Aplysia californica', 'Alloteuthis subulata', 'Bombyx mori', 'Camponotus atriceps', 'Cataglyphis bombycinus', 'Elephantid herpesvirus 1 (isolate Asian elephant/Berlin/Kiba/1998)', 'Bos mutus grunniens', 'Hemigrapsus sanguineus', 'Heliothis virescens', 'Locusta migratoria', 'Schistocerca gregaria', 'Octopus vulgaris', 'Oncorhynchus mykiss', 'Hoolock hoolock', 'Pelophylax esculentus', 'Rattus rattus', 'Tscherskia triton', 'Branchiostoma belcheri', 'Podarcis siculus', 'Dictyostelium discoideum', 'Caenorhabditis briggsae', 'Equine herpesvirus 2 (strain 86/87)', 'Loxodonta africana', 'Vulpes lagopus', 'Oreochromis niloticus', 'Caluromys philander', 'Mico humeralifer', 'Rutilus rutilus', 'Macropus eugenii', 'Eisenia fetida', 'Otolemur crassicaudatus', 'Tupaia chinensis', 'Cairina moschata', 'Gadus morhua', 'Chaetodipus baileyi', 'Chaetodipus penicillatus', 'Murid herpesvirus 1 (strain Smith)', 'Lemur catta', 'Hapalemur griseus', 'Eulemur fulvus fulvus', 'Varecia variegata variegata', 'Varecia rubra', 'Galago senegalensis', 'Loris tardigradus', 'Alouatta pigra', 'Alouatta palliata', 'Alouatta caraya', 'Alouatta sara', 'Alouatta seniculus', 'Ateles paniscus', 'Cebus albifrons', 'Saimiri oerstedii', 'Saguinus midas', 'Saguinus oedipus', 'Saguinus geoffroyi', 'Leontocebus fuscicollis', 'Saguinus imperator', 'Callimico goeldii', 'Callithrix geoffroyi', 'Mico argentatus', 'Callithrix pygmaea', 'Leontopithecus chrysomelas', 'Leontopithecus chrysopygus', 'Leontopithecus rosalia', 'Trachypithecus obscurus', 'Trachypithecus cristatus', 'Trachypithecus auratus', 'Presbytis comata', 'Colobus guereza', 'Mandrillus sphinx', 'Macaca nigra', 'Macaca sylvanus', 'Macaca silenus', 'Cercopithecus mitis', 'Cercopithecus diana', 'Cercopithecus neglectus', 'Erythrocebus patas', 'Miopithecus talapoin', 'Allenopithecus nigroviridis', 'Nomascus concolor', 'Hylobates muelleri', 'Hylobates lar', 'Puma yagouaroundi', 'Panthera onca', 'Sheeppox virus (strain KS-1)', 'Sminthopsis crassicaudata', 'Tupaia minor', 'Chlorocebus pygerythrus', 'Saimiri sciureus', 'Tetraodon fluviatilis', 'Anguilla anguilla', 'Ambystoma tigrinum', 'Coregonus autumnalis', 'Coturnix japonica', 'Catostomus commersonii', 'Leocottus kesslerii', 'Labrus ossifagus', 'Amphibalanus amphitrite', 'Equus asinus', 'Hylobates moloch', 'Theropithecus gelada', 'Plecturocebus moloch', 'Ateles geoffroyi', 'Symphalangus syndactylus', 'Trachypithecus johnii', 'Nasalis larvatus', 'Colobus polykomos', 'Mandrillus leucophaeus', 'Chlorocebus tantalus', 'Human herpesvirus 8 type P (isolate GK18)', 'Allochrocebus solatus', 'Tetraodon nigroviridis', 'Fowlpox virus (strain NVSL)', 'Taricha granulosa', 'Trichosurus vulpecula', 'Chlorocebus sabaeus', 'Cercopithecus nictitans', 'Cercopithecus cephus', 'Cercopithecus ascanius', 'Cercocebus galeritus', 'Microtus montanus', 'Microtus ochrogaster', 'Allochrocebus lhoesti', 'Zosterisessor ophiocephalus', 'Sardina pilchardus', 'Atherina boyeri', 'Gobius niger', 'Salaria pavo', 'Dicentrarchus labrax', 'Solea solea', 'Chelon auratus', 'Chelon saliens', 'Chelon labrosus', 'Mugil cephalus', 'Lithognathus mormyrus', 'Mullus surmuletus', 'Sparus aurata', 'Sarpa salpa', 'Diplodus vulgaris', 'Diplodus annularis', 'Drosophila simulans', 'Acheta domesticus', 'Oncorhynchus gorbuscha', 'Drosophila yakuba', 'Paralichthys olivaceus', 'Arabidopsis thaliana', 'Saccharomyces cerevisiae (strain ATCC 204508 / S288c)', 'Saccharomyces cerevisiae', 'Lachancea kluyveri', 'Schizosaccharomyces pombe (strain 972 / ATCC 24843)', 'Hylobates klossii', 'Saccharomyces cerevisiae (strain YJM789)'])\n"
     ]
    },
    {
     "data": {
      "text/plain": [
       "dict_values([61, 50, 308, 49, 417, 33, 3, 106, 426, 8, 1, 2, 1, 26, 47, 39, 3, 56, 1, 1, 4, 4, 53, 5, 13, 41, 1, 40, 3, 1, 2, 1, 1, 1, 1, 1, 1, 1, 1, 1, 1, 9, 1, 1, 12, 1, 1, 4, 1, 1, 27, 1, 1, 8, 1, 10, 3, 1, 1, 1, 1, 1, 1, 1, 1, 1, 1, 1, 1, 1, 2, 1, 1, 3, 3, 1, 1, 1, 1, 1, 1, 1, 7, 1, 5, 1, 1, 1, 3, 1, 2, 35, 1, 1, 1, 1, 7, 1, 3, 2, 5, 1, 6, 1, 2, 1, 5, 1, 1, 2, 10, 1, 2, 2, 1, 1, 1, 3, 1, 1, 2, 2, 1, 1, 1, 2, 1, 2, 39, 64, 1, 1, 5, 1, 1, 1, 1, 25, 3, 1, 1, 2, 1, 1, 31, 1, 12, 2, 1, 1, 1, 1, 1, 1, 1, 1, 1, 1, 1, 1, 1, 1, 1, 7, 1, 1, 1, 4, 2, 1, 4, 1, 1, 1, 1, 2, 2, 2, 2, 4, 3, 2, 1, 1, 1, 1, 1, 8, 2, 2, 1, 1, 1, 1, 1, 2, 1, 1, 1, 1, 1, 2, 1, 1, 1, 1, 1, 1, 1, 1, 1, 1, 1, 1, 1, 1, 2, 1, 1, 1, 1, 1, 1, 1, 1, 1, 1, 1, 2, 1, 1, 1, 1, 1, 1, 1, 1, 2, 1, 1, 1, 1, 1, 1, 2, 2, 1, 1, 1, 1, 1, 1, 1, 1, 1, 2, 3, 1, 2, 1, 1, 1, 2, 1, 1, 2, 1, 1, 1, 1, 1, 1, 1, 1, 1, 1, 1, 1, 1, 1, 3, 1, 1, 1, 1, 1, 1, 1, 1, 1, 1, 1, 1, 1, 1, 1, 1, 1, 1, 1, 1, 1, 1, 1, 1, 1, 1, 1, 2, 1, 1, 2, 1, 5, 3, 1, 1, 3, 1, 1])"
      ]
     },
     "execution_count": 47,
     "metadata": {},
     "output_type": "execute_result"
    }
   ],
   "source": [
    "print(Counter(orgs).keys())\n",
    "Counter(orgs).values()"
   ]
  },
  {
   "cell_type": "code",
   "execution_count": 48,
   "metadata": {},
   "outputs": [],
   "source": [
    "vectors_train, vectors_test, orgs_train, orgs_test = train_test_split(X, \n",
    "                                                                                  orgs_encoded, \n",
    "                                                                                  test_size=0.1, random_state=42)"
   ]
  },
  {
   "cell_type": "code",
   "execution_count": 49,
   "metadata": {},
   "outputs": [
    {
     "name": "stderr",
     "output_type": "stream",
     "text": [
      "/usr/local/lib/python3.8/site-packages/sklearn/model_selection/_split.py:670: UserWarning: The least populated class in y has only 1 members, which is less than n_splits=5.\n",
      "  warnings.warn((\"The least populated class in y has only %d\"\n"
     ]
    },
    {
     "name": "stdout",
     "output_type": "stream",
     "text": [
      "Accuracy is 0.18072289156626506\n",
      "[128]\n"
     ]
    },
    {
     "name": "stderr",
     "output_type": "stream",
     "text": [
      "/usr/local/lib/python3.8/site-packages/sklearn/model_selection/_split.py:670: UserWarning: The least populated class in y has only 1 members, which is less than n_splits=5.\n",
      "  warnings.warn((\"The least populated class in y has only %d\"\n"
     ]
    },
    {
     "name": "stdout",
     "output_type": "stream",
     "text": [
      "Accuracy is 0.14457831325301204\n",
      "[  2   3  12  14  16  17  22  25  31  36  51  57  90  97 119 128 167 194\n",
      " 219 248 287 316]\n"
     ]
    }
   ],
   "source": [
    "kn = KNeighborsClassifier()\n",
    "param_grid = {'n_neighbors': np.arange(2, 30)}\n",
    "models = {\"lr\": LogisticRegressionCV(cv=5, random_state=0, max_iter=500,solver='lbfgs', multi_class='ovr'),\n",
    "          \"kn\": GridSearchCV(kn, param_grid, cv=5)}\n",
    "for model in models:\n",
    "    models[model].fit(vectors_train, orgs_train)\n",
    "    y_predicted = models[model].predict(vectors_test)\n",
    "    print('Accuracy is {}'.format(accuracy_score(orgs_test, y_predicted)))\n",
    "    print(np.unique(y_predicted))"
   ]
  },
  {
   "cell_type": "code",
   "execution_count": 50,
   "metadata": {},
   "outputs": [
    {
     "data": {
      "text/plain": [
       "{'n_neighbors': 28}"
      ]
     },
     "execution_count": 50,
     "metadata": {},
     "output_type": "execute_result"
    }
   ],
   "source": [
    "models[\"kn\"].best_params_"
   ]
  },
  {
   "cell_type": "code",
   "execution_count": 53,
   "metadata": {},
   "outputs": [
    {
     "name": "stderr",
     "output_type": "stream",
     "text": [
      "/usr/local/lib/python3.8/site-packages/xgboost/sklearn.py:888: UserWarning: The use of label encoder in XGBClassifier is deprecated and will be removed in a future release. To remove this warning, do the following: 1) Pass option use_label_encoder=False when constructing XGBClassifier object; and 2) Encode your labels (y) as integers starting with 0, i.e. 0, 1, 2, ..., [num_class - 1].\n",
      "  warnings.warn(label_encoder_deprecation_msg, UserWarning)\n"
     ]
    },
    {
     "name": "stdout",
     "output_type": "stream",
     "text": [
      "[15:35:16] WARNING: /Users/travis/build/dmlc/xgboost/src/learner.cc:1061: Starting in XGBoost 1.3.0, the default evaluation metric used with the objective 'multi:softprob' was changed from 'merror' to 'mlogloss'. Explicitly set eval_metric if you'd like to restore the old behavior.\n"
     ]
    },
    {
     "data": {
      "text/plain": [
       "0.08032128514056225"
      ]
     },
     "execution_count": 53,
     "metadata": {},
     "output_type": "execute_result"
    }
   ],
   "source": [
    "xgb.fit(vectors_train, orgs_train)\n",
    "test_preds = xgb.predict(vectors_test)\n",
    "accuracy_score(orgs_test, test_preds)"
   ]
  },
  {
   "cell_type": "markdown",
   "metadata": {},
   "source": [
    "### 256-dimensional representations results"
   ]
  },
  {
   "cell_type": "markdown",
   "metadata": {},
   "source": [
    "#### Predict the class:\n",
    "\n",
    "Accuracy is 0.7951685958731757\n",
    "[1 3 6]\n",
    "\n",
    "Accuracy is 0.954906391545043\n",
    "[1 2 3 4 5 6 7]\n",
    "{'n_neighbors': 3}"
   ]
  },
  {
   "cell_type": "markdown",
   "metadata": {},
   "source": [
    "#### Predict the source organism:\n",
    "\n",
    "Accuracy is 0.17262204328132863\n",
    "[128]\n",
    "\n",
    "Accuracy is 0.21389028686462003\n",
    "[  2   3   4   5  14  16  17  22  31  36  41  48  54  56  58  67  72  73\n",
    "  90  97 119 124 128 167 181 194 219 220 223 234 248 287 316]\n",
    "{'n_neighbors': 29}"
   ]
  }
 ],
 "metadata": {
  "hide_input": false,
  "kernelspec": {
   "display_name": "Python 3",
   "language": "python",
   "name": "python3"
  },
  "language_info": {
   "codemirror_mode": {
    "name": "ipython",
    "version": 3
   },
   "file_extension": ".py",
   "mimetype": "text/x-python",
   "name": "python",
   "nbconvert_exporter": "python",
   "pygments_lexer": "ipython3",
   "version": "3.8.4"
  },
  "toc": {
   "base_numbering": 1,
   "nav_menu": {},
   "number_sections": true,
   "sideBar": true,
   "skip_h1_title": false,
   "title_cell": "Table of Contents",
   "title_sidebar": "Contents",
   "toc_cell": false,
   "toc_position": {},
   "toc_section_display": true,
   "toc_window_display": false
  },
  "varInspector": {
   "cols": {
    "lenName": 16,
    "lenType": 16,
    "lenVar": 40
   },
   "kernels_config": {
    "python": {
     "delete_cmd_postfix": "",
     "delete_cmd_prefix": "del ",
     "library": "var_list.py",
     "varRefreshCmd": "print(var_dic_list())"
    },
    "r": {
     "delete_cmd_postfix": ") ",
     "delete_cmd_prefix": "rm(",
     "library": "var_list.r",
     "varRefreshCmd": "cat(var_dic_list()) "
    }
   },
   "types_to_exclude": [
    "module",
    "function",
    "builtin_function_or_method",
    "instance",
    "_Feature"
   ],
   "window_display": false
  }
 },
 "nbformat": 4,
 "nbformat_minor": 4
}
