{
 "cells": [
  {
   "cell_type": "markdown",
   "metadata": {},
   "source": [
    "### 1900-unit mLSTM"
   ]
  },
  {
   "cell_type": "code",
   "execution_count": 2,
   "metadata": {},
   "outputs": [
    {
     "name": "stdout",
     "output_type": "stream",
     "text": [
      "WARNING:tensorflow:From /usr/local/anaconda3/envs/my-rdkit-env/lib/python3.7/site-packages/tensorflow/python/compat/v2_compat.py:96: disable_resource_variables (from tensorflow.python.ops.variable_scope) is deprecated and will be removed in a future version.\n",
      "Instructions for updating:\n",
      "non-resource variables are not supported in the long term\n"
     ]
    }
   ],
   "source": [
    "import tensorflow.compat.v1 as tf\n",
    "tf.disable_v2_behavior()\n",
    "import sys\n",
    "import numpy as np\n",
    "sys.path.append('/Users/aniton/Documents/GitHub/UniRep')\n",
    "tf.random.set_random_seed(42)\n",
    "np.random.seed(42)\n",
    "!aws s3 sync --no-sign-request --quiet s3://unirep-public/1900_weights/ 1900_weights/\n",
    "from unirep import babbler1900 as babbler\n",
    "MODEL_WEIGHT_PATH = \"./1900_weights\""
   ]
  },
  {
   "cell_type": "code",
   "execution_count": 8,
   "metadata": {},
   "outputs": [
    {
     "name": "stdout",
     "output_type": "stream",
     "text": [
      "WARNING:tensorflow:From /Users/aniton/Documents/GitHub/UniRep-analysis/unirep.py:364: dynamic_rnn (from tensorflow.python.ops.rnn) is deprecated and will be removed in a future version.\n",
      "Instructions for updating:\n",
      "Please use `keras.layers.RNN(cell)`, which is equivalent to this API\n",
      "WARNING:tensorflow:From /usr/local/anaconda3/envs/my-rdkit-env/lib/python3.7/site-packages/tensorflow/python/util/dispatch.py:201: calling l2_normalize (from tensorflow.python.ops.nn_impl) with dim is deprecated and will be removed in a future version.\n",
      "Instructions for updating:\n",
      "dim is deprecated, use axis instead\n",
      "WARNING:tensorflow:From /Users/aniton/Documents/GitHub/UniRep-analysis/unirep.py:31: Categorical.__init__ (from tensorflow.python.ops.distributions.categorical) is deprecated and will be removed after 2019-01-01.\n",
      "Instructions for updating:\n",
      "The TensorFlow Distributions library has moved to TensorFlow Probability (https://github.com/tensorflow/probability). You should update all references to use `tfp.distributions` instead of `tf.distributions`.\n",
      "WARNING:tensorflow:From /usr/local/anaconda3/envs/my-rdkit-env/lib/python3.7/site-packages/tensorflow/python/ops/distributions/categorical.py:242: Distribution.__init__ (from tensorflow.python.ops.distributions.distribution) is deprecated and will be removed after 2019-01-01.\n",
      "Instructions for updating:\n",
      "The TensorFlow Distributions library has moved to TensorFlow Probability (https://github.com/tensorflow/probability). You should update all references to use `tfp.distributions` instead of `tf.distributions`.\n",
      "WARNING:tensorflow:From /usr/local/anaconda3/envs/my-rdkit-env/lib/python3.7/site-packages/tensorflow/python/util/dispatch.py:201: multinomial (from tensorflow.python.ops.random_ops) is deprecated and will be removed in a future version.\n",
      "Instructions for updating:\n",
      "Use `tf.random.categorical` instead.\n"
     ]
    },
    {
     "name": "stderr",
     "output_type": "stream",
     "text": [
      "/usr/local/anaconda3/envs/my-rdkit-env/lib/python3.7/site-packages/tensorflow/python/keras/engine/base_layer_v1.py:1719: UserWarning: `layer.apply` is deprecated and will be removed in a future version. Please use `layer.__call__` method instead.\n",
      "  warnings.warn('`layer.apply` is deprecated and '\n"
     ]
    }
   ],
   "source": [
    "from tf_slim.layers import layers as _layers\n",
    "batch_size = 12\n",
    "b = babbler(batch_size=batch_size, model_path=MODEL_WEIGHT_PATH)"
   ]
  },
  {
   "cell_type": "markdown",
   "metadata": {},
   "source": [
    "### 5-hydroxytryptamine receptor 7"
   ]
  },
  {
   "cell_type": "code",
   "execution_count": 9,
   "metadata": {},
   "outputs": [],
   "source": [
    "seq = \"MMDVNSSGRPDLYGHLRSFLLPEVGRGLPDLSPDGGADPVAGSWAPHLLSEVTASPAPTWDAPPDNASGCGEQINYGRVEKVVIGSILTLITLLTIAGNCLVVISVCFVKKLRQPSNYLIVSLALADLSVAVAVMPFVSVTDLIGGKWIFGHFFCNVFIAMDVMCCTASIMTLCVISIDRYLGITRPLTYPVRQNGKCMAKMILSVWLLSASITLPPLFGWAQNVNDDKVCLISQDFGYTIYSTAVAFYIPMSVMLFMYYQIYKAARKSAAKHKFPGFPRVEPDSVIALNGIVKLQKEVEECANLSRLLKHERKNISIFKREQKAATTLGIIVGAFTVCWLPFFLLSTARPFICGTSCSCIPLWVERTFLWLGYANSLINPFIYAFFNRDLRTTYRSLLQCQYRNINRKLSAAGMHEALKLAERPERPEFVLRACTRRVLLRPEKRPPVSVWVLQSPDHHNWLADKMLTTVEKKVMIHD\""
   ]
  },
  {
   "cell_type": "markdown",
   "metadata": {},
   "source": [
    "#### average hidden representation"
   ]
  },
  {
   "cell_type": "code",
   "execution_count": 12,
   "metadata": {},
   "outputs": [],
   "source": [
    "a = b.get_rep(seq)"
   ]
  },
  {
   "cell_type": "code",
   "execution_count": 13,
   "metadata": {},
   "outputs": [
    {
     "data": {
      "text/plain": [
       "array([ 0.06724703, -0.0280663 ,  0.04971798, ...,  0.0425435 ,\n",
       "        0.01492667, -0.04463214], dtype=float32)"
      ]
     },
     "execution_count": 13,
     "metadata": {},
     "output_type": "execute_result"
    }
   ],
   "source": [
    "a[0]"
   ]
  },
  {
   "cell_type": "markdown",
   "metadata": {},
   "source": [
    "#### final hidden representation"
   ]
  },
  {
   "cell_type": "code",
   "execution_count": 14,
   "metadata": {},
   "outputs": [
    {
     "data": {
      "text/plain": [
       "array([ 0.00021911, -0.0279364 ,  0.03211641, ...,  0.03563059,\n",
       "        0.03723566,  0.02737938], dtype=float32)"
      ]
     },
     "execution_count": 14,
     "metadata": {},
     "output_type": "execute_result"
    }
   ],
   "source": [
    "a[1]"
   ]
  },
  {
   "cell_type": "markdown",
   "metadata": {},
   "source": [
    "####  final cell representation"
   ]
  },
  {
   "cell_type": "code",
   "execution_count": 15,
   "metadata": {},
   "outputs": [
    {
     "data": {
      "text/plain": [
       "array([ 4.509942  , -3.30547   ,  4.23504   , ...,  2.6672964 ,\n",
       "        3.543985  ,  0.81329435], dtype=float32)"
      ]
     },
     "execution_count": 15,
     "metadata": {},
     "output_type": "execute_result"
    }
   ],
   "source": [
    "a[2]"
   ]
  },
  {
   "cell_type": "markdown",
   "metadata": {},
   "source": [
    "### 64-unit mLSTM"
   ]
  },
  {
   "cell_type": "code",
   "execution_count": 3,
   "metadata": {},
   "outputs": [],
   "source": [
    "tf.random.set_random_seed(42)\n",
    "np.random.seed(42)\n",
    "!aws s3 sync --no-sign-request --quiet s3://unirep-public/64_weights/ 64_weights/\n",
    "from unirep import babbler64 as babbler\n",
    "MODEL_WEIGHT_PATH = \"./64_weights\""
   ]
  },
  {
   "cell_type": "code",
   "execution_count": 4,
   "metadata": {},
   "outputs": [
    {
     "name": "stdout",
     "output_type": "stream",
     "text": [
      "WARNING:tensorflow:From /Users/aniton/Documents/GitHub/UniRep-analysis/unirep.py:750: dynamic_rnn (from tensorflow.python.ops.rnn) is deprecated and will be removed in a future version.\n",
      "Instructions for updating:\n",
      "Please use `keras.layers.RNN(cell)`, which is equivalent to this API\n",
      "WARNING:tensorflow:From /usr/local/anaconda3/envs/my-rdkit-env/lib/python3.7/site-packages/tensorflow/python/util/dispatch.py:201: calling l2_normalize (from tensorflow.python.ops.nn_impl) with dim is deprecated and will be removed in a future version.\n",
      "Instructions for updating:\n",
      "dim is deprecated, use axis instead\n",
      "WARNING:tensorflow:From /Users/aniton/Documents/GitHub/UniRep-analysis/unirep.py:31: Categorical.__init__ (from tensorflow.python.ops.distributions.categorical) is deprecated and will be removed after 2019-01-01.\n",
      "Instructions for updating:\n",
      "The TensorFlow Distributions library has moved to TensorFlow Probability (https://github.com/tensorflow/probability). You should update all references to use `tfp.distributions` instead of `tf.distributions`.\n",
      "WARNING:tensorflow:From /usr/local/anaconda3/envs/my-rdkit-env/lib/python3.7/site-packages/tensorflow/python/ops/distributions/categorical.py:242: Distribution.__init__ (from tensorflow.python.ops.distributions.distribution) is deprecated and will be removed after 2019-01-01.\n",
      "Instructions for updating:\n",
      "The TensorFlow Distributions library has moved to TensorFlow Probability (https://github.com/tensorflow/probability). You should update all references to use `tfp.distributions` instead of `tf.distributions`.\n",
      "WARNING:tensorflow:From /usr/local/anaconda3/envs/my-rdkit-env/lib/python3.7/site-packages/tensorflow/python/util/dispatch.py:201: multinomial (from tensorflow.python.ops.random_ops) is deprecated and will be removed in a future version.\n",
      "Instructions for updating:\n",
      "Use `tf.random.categorical` instead.\n"
     ]
    },
    {
     "name": "stderr",
     "output_type": "stream",
     "text": [
      "/usr/local/anaconda3/envs/my-rdkit-env/lib/python3.7/site-packages/tensorflow/python/keras/engine/base_layer_v1.py:1719: UserWarning: `layer.apply` is deprecated and will be removed in a future version. Please use `layer.__call__` method instead.\n",
      "  warnings.warn('`layer.apply` is deprecated and '\n"
     ]
    }
   ],
   "source": [
    "batch_size = 12\n",
    "b = babbler(batch_size=batch_size, model_path=MODEL_WEIGHT_PATH)"
   ]
  },
  {
   "cell_type": "code",
   "execution_count": 5,
   "metadata": {},
   "outputs": [],
   "source": [
    "seq = \"MMDVNSSGRPDLYGHLRSFLLPEVGRGLPDLSPDGGADPVAGSWAPHLLSEVTASPAPTWDAPPDNASGCGEQINYGRVEKVVIGSILTLITLLTIAGNCLVVISVCFVKKLRQPSNYLIVSLALADLSVAVAVMPFVSVTDLIGGKWIFGHFFCNVFIAMDVMCCTASIMTLCVISIDRYLGITRPLTYPVRQNGKCMAKMILSVWLLSASITLPPLFGWAQNVNDDKVCLISQDFGYTIYSTAVAFYIPMSVMLFMYYQIYKAARKSAAKHKFPGFPRVEPDSVIALNGIVKLQKEVEECANLSRLLKHERKNISIFKREQKAATTLGIIVGAFTVCWLPFFLLSTARPFICGTSCSCIPLWVERTFLWLGYANSLINPFIYAFFNRDLRTTYRSLLQCQYRNINRKLSAAGMHEALKLAERPERPEFVLRACTRRVLLRPEKRPPVSVWVLQSPDHHNWLADKMLTTVEKKVMIHD\""
   ]
  },
  {
   "cell_type": "code",
   "execution_count": 6,
   "metadata": {},
   "outputs": [],
   "source": [
    "a = b.get_rep(seq)"
   ]
  },
  {
   "cell_type": "markdown",
   "metadata": {},
   "source": [
    "#### average hidden, final hidden, final cell representation arrays"
   ]
  },
  {
   "cell_type": "code",
   "execution_count": 7,
   "metadata": {},
   "outputs": [
    {
     "name": "stdout",
     "output_type": "stream",
     "text": [
      "(array([-0.02442052,  0.12668233,  0.05974412, -0.96180606, -0.01348389,\n",
      "       -0.2072217 ,  0.11382031,  0.14564557,  0.45236623, -0.07579868,\n",
      "        0.15168576,  0.15382348, -0.00178124,  0.12680867, -0.04980928,\n",
      "       -0.07084481, -0.9031778 ,  0.03589629,  0.14066233, -0.54970723,\n",
      "       -0.08650241,  0.29881725, -0.32411703, -0.21963464,  0.14390944,\n",
      "       -0.05468214, -0.05563748,  0.06209938,  0.32786408, -0.43265256,\n",
      "        0.10956056,  0.37968376,  0.2716848 , -0.0917405 ,  0.7453777 ,\n",
      "        0.11836982, -0.34010586,  0.07253375,  0.05995105, -0.1473391 ,\n",
      "        0.02390106,  0.16314784, -0.00480597,  0.12641585, -0.18716659,\n",
      "        0.08808956, -0.82002044, -0.22481933,  0.09638377,  0.2260205 ,\n",
      "        0.26296222,  0.03258057, -0.00970771, -0.10038885,  0.14187522,\n",
      "        0.01684602,  0.08079701, -0.01887866, -0.08594517,  0.26949283,\n",
      "       -0.07932065, -0.03368478,  0.46189913, -0.03301748], dtype=float32), array([-0.0284293 ,  0.09124698, -0.10763494, -0.98538315, -0.0546687 ,\n",
      "       -0.18888071,  0.11765283,  0.10793033,  0.3621862 , -0.06891228,\n",
      "        0.11555015,  0.15835539, -0.05660626,  0.07390554, -0.14279999,\n",
      "       -0.03884505, -0.91404855,  0.04083031,  0.12432654, -0.644665  ,\n",
      "       -0.07681368,  0.227335  , -0.27376762, -0.24062176,  0.11427694,\n",
      "       -0.09940876, -0.08282124,  0.06280266,  0.40256566, -0.36543387,\n",
      "        0.13188435,  0.40269947,  0.09887984, -0.04728962,  0.7689684 ,\n",
      "        0.10784007, -0.23983784,  0.0022822 ,  0.01729274, -0.06663921,\n",
      "        0.02450886,  0.06456247, -0.04942945,  0.08983064, -0.12272293,\n",
      "        0.05387701, -0.9082604 , -0.16799673,  0.11376032,  0.17878324,\n",
      "        0.2565006 ,  0.01602371, -0.00903265, -0.0977521 ,  0.0685108 ,\n",
      "        0.00440739,  0.01818987, -0.03138748,  0.00269283,  0.16899148,\n",
      "       -0.07687844, -0.02440893,  0.27986914,  0.01853226], dtype=float32), array([-7.21463412e-02,  3.80299240e-01, -2.10705966e-01, -5.73515511e+00,\n",
      "       -7.87578970e-02, -9.52060521e-01,  7.54670024e-01,  9.58291709e-01,\n",
      "        4.86367136e-01, -2.69666642e-01,  1.51518047e+00,  2.13044262e+00,\n",
      "       -8.45791101e-02,  1.02973066e-01, -1.61035523e-01, -9.42980051e-01,\n",
      "       -1.58673878e+01,  4.33027297e-02,  2.28685546e+00, -3.06003642e+00,\n",
      "       -1.57602251e-01,  3.65286493e+00, -4.24808550e+00, -3.20146370e+00,\n",
      "        3.08587408e+00, -8.13500166e-01, -1.93868160e-01,  1.61775440e-01,\n",
      "        1.11022644e+01, -1.05934401e+01,  2.81663966e+00,  4.47677344e-01,\n",
      "        2.19162560e+00, -8.83025229e-01,  1.65878654e+00,  4.31376815e-01,\n",
      "       -4.63677347e-01,  1.62913091e-02,  5.62806427e-02, -6.62842393e-01,\n",
      "        4.74527702e-02,  1.25576943e-01, -6.69870749e-02,  3.83282989e-01,\n",
      "       -2.50790298e-01,  1.35085714e+00, -2.72788000e+00, -1.82721119e+01,\n",
      "        9.05544400e-01,  7.06639469e-01,  2.87050545e-01,  1.45749748e-01,\n",
      "       -3.95835750e-02, -5.36158681e-01,  8.90765935e-02,  6.33496717e-02,\n",
      "        2.14633569e-02, -9.79982913e-02,  5.30429650e-03,  9.72558975e+00,\n",
      "       -1.23415612e-01, -4.96669039e-02,  3.07005572e+00,  5.09952269e-02],\n",
      "      dtype=float32))\n"
     ]
    }
   ],
   "source": [
    "print(a)"
   ]
  },
  {
   "cell_type": "markdown",
   "metadata": {},
   "source": [
    "### Fingerprints"
   ]
  },
  {
   "cell_type": "code",
   "execution_count": 25,
   "metadata": {},
   "outputs": [],
   "source": [
    "import pandas as pd\n",
    "df = pd.read_csv('for5-HT7.csv', sep=';')\n",
    "df = df.dropna(subset=['Smiles', 'Molecule ChEMBL ID']).drop_duplicates(subset=['Molecule ChEMBL ID'])"
   ]
  },
  {
   "cell_type": "code",
   "execution_count": 26,
   "metadata": {},
   "outputs": [],
   "source": [
    "import  rdkit\n",
    "from rdkit import Chem\n",
    "from rdkit.Chem import AllChem\n",
    "from rdkit.Chem import Descriptors\n",
    "from rdkit.Chem import Draw\n",
    "from rdkit.Chem.Draw import IPythonConsole\n",
    "from IPython.display import Image\n",
    "from rdkit.Chem import DataStructs"
   ]
  },
  {
   "cell_type": "code",
   "execution_count": 27,
   "metadata": {},
   "outputs": [],
   "source": [
    "df['mol'] = df['Smiles'].apply(Chem.MolFromSmiles)\n",
    "df = df.dropna(subset=['mol'])\n",
    "df['HeavyAtomCount'] = df['mol'].apply(Descriptors.HeavyAtomCount)\n",
    "df['HAccept'] = df['mol'].apply(Descriptors.NumHAcceptors)\n",
    "df['HDonor'] = df['mol'].apply(Descriptors.NumHDonors)\n",
    "df['Heteroatoms'] = df['mol'].apply(Descriptors.NumHeteroatoms)\n",
    "df['RingCount'] = df['mol'].apply(Descriptors.RingCount)\n",
    "df['SaturatedRings'] = df['mol'].apply(Descriptors.NumSaturatedRings)\n",
    "df['AliphaticRings'] = df['mol'].apply(Descriptors.NumAliphaticRings)\n",
    "df['AromaticRings'] = df['mol'].apply(Descriptors.NumAromaticRings)\n",
    "df['Ipc'] = df['mol'].apply(Descriptors.Ipc)\n",
    "df['HallKierAlpha'] = df['mol'].apply(Descriptors.HallKierAlpha)\n",
    "df['NumValenceElectrons'] = df['mol'].apply(Descriptors.NumValenceElectrons)"
   ]
  },
  {
   "cell_type": "code",
   "execution_count": 28,
   "metadata": {},
   "outputs": [],
   "source": [
    "df[\"ECFP6\"] = df['mol'].apply(AllChem.GetMorganFingerprintAsBitVect, args=(3, 2048))"
   ]
  },
  {
   "cell_type": "code",
   "execution_count": 30,
   "metadata": {},
   "outputs": [
    {
     "data": {
      "text/html": [
       "<div>\n",
       "<style scoped>\n",
       "    .dataframe tbody tr th:only-of-type {\n",
       "        vertical-align: middle;\n",
       "    }\n",
       "\n",
       "    .dataframe tbody tr th {\n",
       "        vertical-align: top;\n",
       "    }\n",
       "\n",
       "    .dataframe thead th {\n",
       "        text-align: right;\n",
       "    }\n",
       "</style>\n",
       "<table border=\"1\" class=\"dataframe\">\n",
       "  <thead>\n",
       "    <tr style=\"text-align: right;\">\n",
       "      <th></th>\n",
       "      <th>Molecule ChEMBL ID</th>\n",
       "      <th>Molecule Name</th>\n",
       "      <th>Molecule Max Phase</th>\n",
       "      <th>Molecular Weight</th>\n",
       "      <th>#RO5 Violations</th>\n",
       "      <th>AlogP</th>\n",
       "      <th>Compound Key</th>\n",
       "      <th>Smiles</th>\n",
       "      <th>Standard Type</th>\n",
       "      <th>Standard Relation</th>\n",
       "      <th>...</th>\n",
       "      <th>HDonor</th>\n",
       "      <th>Heteroatoms</th>\n",
       "      <th>RingCount</th>\n",
       "      <th>SaturatedRings</th>\n",
       "      <th>AliphaticRings</th>\n",
       "      <th>AromaticRings</th>\n",
       "      <th>Ipc</th>\n",
       "      <th>HallKierAlpha</th>\n",
       "      <th>NumValenceElectrons</th>\n",
       "      <th>ECFP6</th>\n",
       "    </tr>\n",
       "  </thead>\n",
       "  <tbody>\n",
       "    <tr>\n",
       "      <th>0</th>\n",
       "      <td>CHEMBL72008</td>\n",
       "      <td>NaN</td>\n",
       "      <td>0</td>\n",
       "      <td>391.52</td>\n",
       "      <td>0</td>\n",
       "      <td>3.00</td>\n",
       "      <td>23n</td>\n",
       "      <td>O=C1Nc2cccc3c2C1(CCCCN1CCN(c2ncccn2)CC1)CCC3</td>\n",
       "      <td>Ki</td>\n",
       "      <td>'='</td>\n",
       "      <td>...</td>\n",
       "      <td>1</td>\n",
       "      <td>6</td>\n",
       "      <td>5</td>\n",
       "      <td>1</td>\n",
       "      <td>3</td>\n",
       "      <td>2</td>\n",
       "      <td>8.827271e+06</td>\n",
       "      <td>-2.47</td>\n",
       "      <td>152</td>\n",
       "      <td>[0, 0, 0, 0, 0, 0, 0, 0, 0, 0, 0, 0, 0, 0, 0, ...</td>\n",
       "    </tr>\n",
       "    <tr>\n",
       "      <th>1</th>\n",
       "      <td>CHEMBL428494</td>\n",
       "      <td>NaN</td>\n",
       "      <td>0</td>\n",
       "      <td>390.53</td>\n",
       "      <td>0</td>\n",
       "      <td>3.60</td>\n",
       "      <td>23m</td>\n",
       "      <td>O=C1Nc2cccc3c2C1(CCCCN1CCN(c2ccccn2)CC1)CCC3</td>\n",
       "      <td>Ki</td>\n",
       "      <td>'='</td>\n",
       "      <td>...</td>\n",
       "      <td>1</td>\n",
       "      <td>5</td>\n",
       "      <td>5</td>\n",
       "      <td>1</td>\n",
       "      <td>3</td>\n",
       "      <td>2</td>\n",
       "      <td>8.827271e+06</td>\n",
       "      <td>-2.40</td>\n",
       "      <td>152</td>\n",
       "      <td>[0, 0, 0, 0, 0, 0, 0, 0, 0, 0, 0, 0, 0, 0, 0, ...</td>\n",
       "    </tr>\n",
       "    <tr>\n",
       "      <th>2</th>\n",
       "      <td>CHEMBL18840</td>\n",
       "      <td>NaN</td>\n",
       "      <td>0</td>\n",
       "      <td>203.25</td>\n",
       "      <td>0</td>\n",
       "      <td>0.77</td>\n",
       "      <td>5-CT</td>\n",
       "      <td>NCCc1c[nH]c2ccc(C(N)=O)cc12</td>\n",
       "      <td>Ki</td>\n",
       "      <td>'&lt;'</td>\n",
       "      <td>...</td>\n",
       "      <td>3</td>\n",
       "      <td>4</td>\n",
       "      <td>2</td>\n",
       "      <td>0</td>\n",
       "      <td>0</td>\n",
       "      <td>2</td>\n",
       "      <td>3.765162e+03</td>\n",
       "      <td>-1.81</td>\n",
       "      <td>78</td>\n",
       "      <td>[0, 0, 0, 0, 0, 0, 0, 0, 0, 0, 0, 0, 0, 0, 0, ...</td>\n",
       "    </tr>\n",
       "    <tr>\n",
       "      <th>3</th>\n",
       "      <td>CHEMBL281923</td>\n",
       "      <td>NaN</td>\n",
       "      <td>0</td>\n",
       "      <td>291.39</td>\n",
       "      <td>0</td>\n",
       "      <td>3.66</td>\n",
       "      <td>82d</td>\n",
       "      <td>CO[C@@]1(C)c2cccc3c2-c2c1ccc1c2[C@@H](C3)N(C)CC1</td>\n",
       "      <td>Ki</td>\n",
       "      <td>'='</td>\n",
       "      <td>...</td>\n",
       "      <td>0</td>\n",
       "      <td>2</td>\n",
       "      <td>5</td>\n",
       "      <td>0</td>\n",
       "      <td>3</td>\n",
       "      <td>2</td>\n",
       "      <td>2.291280e+05</td>\n",
       "      <td>-1.64</td>\n",
       "      <td>112</td>\n",
       "      <td>[0, 0, 0, 0, 0, 0, 0, 0, 0, 0, 0, 0, 0, 0, 0, ...</td>\n",
       "    </tr>\n",
       "    <tr>\n",
       "      <th>4</th>\n",
       "      <td>CHEMBL260551</td>\n",
       "      <td>NaN</td>\n",
       "      <td>0</td>\n",
       "      <td>464.41</td>\n",
       "      <td>1</td>\n",
       "      <td>5.72</td>\n",
       "      <td>9f'</td>\n",
       "      <td>CCC1(CCCCN2CCN(c3ccc(Cl)cc3)CC2)C(=O)Nc2cc(F)c...</td>\n",
       "      <td>Ki</td>\n",
       "      <td>'='</td>\n",
       "      <td>...</td>\n",
       "      <td>1</td>\n",
       "      <td>7</td>\n",
       "      <td>4</td>\n",
       "      <td>1</td>\n",
       "      <td>2</td>\n",
       "      <td>2</td>\n",
       "      <td>1.198720e+07</td>\n",
       "      <td>-1.82</td>\n",
       "      <td>166</td>\n",
       "      <td>[0, 0, 0, 0, 0, 0, 0, 0, 0, 0, 0, 0, 0, 0, 0, ...</td>\n",
       "    </tr>\n",
       "    <tr>\n",
       "      <th>5</th>\n",
       "      <td>CHEMBL152595</td>\n",
       "      <td>NaN</td>\n",
       "      <td>0</td>\n",
       "      <td>400.59</td>\n",
       "      <td>0</td>\n",
       "      <td>4.51</td>\n",
       "      <td>18</td>\n",
       "      <td>CC1CCN(CC[C@@H]2CCCCN2S(=O)(=O)c2cccc3ccccc23)CC1</td>\n",
       "      <td>Ki</td>\n",
       "      <td>'='</td>\n",
       "      <td>...</td>\n",
       "      <td>0</td>\n",
       "      <td>5</td>\n",
       "      <td>4</td>\n",
       "      <td>2</td>\n",
       "      <td>2</td>\n",
       "      <td>2</td>\n",
       "      <td>3.031468e+06</td>\n",
       "      <td>-1.43</td>\n",
       "      <td>152</td>\n",
       "      <td>[0, 0, 0, 0, 0, 0, 0, 0, 0, 0, 0, 0, 0, 0, 0, ...</td>\n",
       "    </tr>\n",
       "    <tr>\n",
       "      <th>6</th>\n",
       "      <td>CHEMBL13816</td>\n",
       "      <td>NaN</td>\n",
       "      <td>0</td>\n",
       "      <td>389.50</td>\n",
       "      <td>0</td>\n",
       "      <td>4.05</td>\n",
       "      <td>7</td>\n",
       "      <td>CN1C[C@H](CNC(=O)OCc2ccccc2)C[C@@H]2c3cccc4[nH...</td>\n",
       "      <td>Ki</td>\n",
       "      <td>'='</td>\n",
       "      <td>...</td>\n",
       "      <td>2</td>\n",
       "      <td>5</td>\n",
       "      <td>5</td>\n",
       "      <td>1</td>\n",
       "      <td>2</td>\n",
       "      <td>3</td>\n",
       "      <td>8.381975e+06</td>\n",
       "      <td>-2.79</td>\n",
       "      <td>150</td>\n",
       "      <td>[0, 0, 0, 0, 0, 0, 0, 0, 0, 0, 0, 0, 0, 0, 0, ...</td>\n",
       "    </tr>\n",
       "    <tr>\n",
       "      <th>7</th>\n",
       "      <td>CHEMBL268921</td>\n",
       "      <td>NaN</td>\n",
       "      <td>0</td>\n",
       "      <td>361.49</td>\n",
       "      <td>0</td>\n",
       "      <td>3.43</td>\n",
       "      <td>1</td>\n",
       "      <td>O=C1Nc2cccc3c2C1(CCN1CCN(c2ccccc2)CC1)CCC3</td>\n",
       "      <td>Ki</td>\n",
       "      <td>'='</td>\n",
       "      <td>...</td>\n",
       "      <td>1</td>\n",
       "      <td>4</td>\n",
       "      <td>5</td>\n",
       "      <td>1</td>\n",
       "      <td>3</td>\n",
       "      <td>2</td>\n",
       "      <td>3.337267e+06</td>\n",
       "      <td>-2.33</td>\n",
       "      <td>140</td>\n",
       "      <td>[0, 0, 0, 0, 0, 0, 0, 0, 0, 0, 0, 0, 0, 0, 0, ...</td>\n",
       "    </tr>\n",
       "    <tr>\n",
       "      <th>8</th>\n",
       "      <td>CHEMBL151858</td>\n",
       "      <td>NaN</td>\n",
       "      <td>0</td>\n",
       "      <td>373.56</td>\n",
       "      <td>0</td>\n",
       "      <td>4.76</td>\n",
       "      <td>10</td>\n",
       "      <td>CC([C@H](C)CCN1CCC[C@H](C)C1)S(=O)(=O)c1cccc2c...</td>\n",
       "      <td>Ki</td>\n",
       "      <td>'='</td>\n",
       "      <td>...</td>\n",
       "      <td>0</td>\n",
       "      <td>4</td>\n",
       "      <td>3</td>\n",
       "      <td>1</td>\n",
       "      <td>1</td>\n",
       "      <td>2</td>\n",
       "      <td>7.183453e+05</td>\n",
       "      <td>-1.39</td>\n",
       "      <td>142</td>\n",
       "      <td>[0, 1, 0, 0, 0, 0, 0, 0, 0, 0, 0, 1, 0, 0, 0, ...</td>\n",
       "    </tr>\n",
       "    <tr>\n",
       "      <th>9</th>\n",
       "      <td>CHEMBL239897</td>\n",
       "      <td>NaN</td>\n",
       "      <td>0</td>\n",
       "      <td>435.49</td>\n",
       "      <td>0</td>\n",
       "      <td>3.85</td>\n",
       "      <td>9</td>\n",
       "      <td>O=C1C2=C(CCCC2)C(=O)N1CCCCN1CCN(c2cccc(C(F)(F)...</td>\n",
       "      <td>Ki</td>\n",
       "      <td>'='</td>\n",
       "      <td>...</td>\n",
       "      <td>0</td>\n",
       "      <td>8</td>\n",
       "      <td>4</td>\n",
       "      <td>1</td>\n",
       "      <td>3</td>\n",
       "      <td>1</td>\n",
       "      <td>1.138698e+07</td>\n",
       "      <td>-2.35</td>\n",
       "      <td>168</td>\n",
       "      <td>[0, 0, 0, 0, 0, 0, 0, 0, 0, 0, 0, 0, 0, 0, 0, ...</td>\n",
       "    </tr>\n",
       "    <tr>\n",
       "      <th>10</th>\n",
       "      <td>CHEMBL79587</td>\n",
       "      <td>NaN</td>\n",
       "      <td>0</td>\n",
       "      <td>399.32</td>\n",
       "      <td>1</td>\n",
       "      <td>6.05</td>\n",
       "      <td>30A</td>\n",
       "      <td>Cc1ccccc1[C@@H](Nc1ccc(Cl)cc1Cl)C(=O)CCc1ccncc1</td>\n",
       "      <td>Ki</td>\n",
       "      <td>NaN</td>\n",
       "      <td>...</td>\n",
       "      <td>1</td>\n",
       "      <td>5</td>\n",
       "      <td>3</td>\n",
       "      <td>0</td>\n",
       "      <td>0</td>\n",
       "      <td>3</td>\n",
       "      <td>1.357407e+06</td>\n",
       "      <td>-2.36</td>\n",
       "      <td>138</td>\n",
       "      <td>[0, 1, 0, 0, 0, 0, 0, 0, 0, 0, 0, 0, 0, 0, 0, ...</td>\n",
       "    </tr>\n",
       "    <tr>\n",
       "      <th>11</th>\n",
       "      <td>CHEMBL267615</td>\n",
       "      <td>NaN</td>\n",
       "      <td>0</td>\n",
       "      <td>246.35</td>\n",
       "      <td>0</td>\n",
       "      <td>2.84</td>\n",
       "      <td>8</td>\n",
       "      <td>CCc1[nH]c2ccc(OC)cc2c1CCN(C)C</td>\n",
       "      <td>Ki</td>\n",
       "      <td>'='</td>\n",
       "      <td>...</td>\n",
       "      <td>1</td>\n",
       "      <td>3</td>\n",
       "      <td>2</td>\n",
       "      <td>0</td>\n",
       "      <td>0</td>\n",
       "      <td>2</td>\n",
       "      <td>1.514710e+04</td>\n",
       "      <td>-1.48</td>\n",
       "      <td>98</td>\n",
       "      <td>[0, 0, 0, 0, 0, 0, 0, 0, 0, 0, 0, 0, 0, 0, 0, ...</td>\n",
       "    </tr>\n",
       "    <tr>\n",
       "      <th>12</th>\n",
       "      <td>CHEMBL401541</td>\n",
       "      <td>NaN</td>\n",
       "      <td>0</td>\n",
       "      <td>181.63</td>\n",
       "      <td>0</td>\n",
       "      <td>1.39</td>\n",
       "      <td>1</td>\n",
       "      <td>NC1=Nc2cccc(Cl)c2CN1</td>\n",
       "      <td>Ki</td>\n",
       "      <td>'='</td>\n",
       "      <td>...</td>\n",
       "      <td>2</td>\n",
       "      <td>4</td>\n",
       "      <td>2</td>\n",
       "      <td>0</td>\n",
       "      <td>1</td>\n",
       "      <td>1</td>\n",
       "      <td>7.035166e+02</td>\n",
       "      <td>-1.22</td>\n",
       "      <td>62</td>\n",
       "      <td>[0, 0, 0, 0, 0, 0, 0, 0, 0, 0, 0, 0, 0, 0, 0, ...</td>\n",
       "    </tr>\n",
       "  </tbody>\n",
       "</table>\n",
       "<p>13 rows × 54 columns</p>\n",
       "</div>"
      ],
      "text/plain": [
       "   Molecule ChEMBL ID Molecule Name  Molecule Max Phase  Molecular Weight  \\\n",
       "0         CHEMBL72008           NaN                   0            391.52   \n",
       "1        CHEMBL428494           NaN                   0            390.53   \n",
       "2         CHEMBL18840           NaN                   0            203.25   \n",
       "3        CHEMBL281923           NaN                   0            291.39   \n",
       "4        CHEMBL260551           NaN                   0            464.41   \n",
       "5        CHEMBL152595           NaN                   0            400.59   \n",
       "6         CHEMBL13816           NaN                   0            389.50   \n",
       "7        CHEMBL268921           NaN                   0            361.49   \n",
       "8        CHEMBL151858           NaN                   0            373.56   \n",
       "9        CHEMBL239897           NaN                   0            435.49   \n",
       "10        CHEMBL79587           NaN                   0            399.32   \n",
       "11       CHEMBL267615           NaN                   0            246.35   \n",
       "12       CHEMBL401541           NaN                   0            181.63   \n",
       "\n",
       "    #RO5 Violations  AlogP Compound Key  \\\n",
       "0                 0   3.00          23n   \n",
       "1                 0   3.60          23m   \n",
       "2                 0   0.77         5-CT   \n",
       "3                 0   3.66          82d   \n",
       "4                 1   5.72          9f'   \n",
       "5                 0   4.51           18   \n",
       "6                 0   4.05            7   \n",
       "7                 0   3.43            1   \n",
       "8                 0   4.76           10   \n",
       "9                 0   3.85            9   \n",
       "10                1   6.05          30A   \n",
       "11                0   2.84            8   \n",
       "12                0   1.39            1   \n",
       "\n",
       "                                               Smiles Standard Type  \\\n",
       "0        O=C1Nc2cccc3c2C1(CCCCN1CCN(c2ncccn2)CC1)CCC3            Ki   \n",
       "1        O=C1Nc2cccc3c2C1(CCCCN1CCN(c2ccccn2)CC1)CCC3            Ki   \n",
       "2                         NCCc1c[nH]c2ccc(C(N)=O)cc12            Ki   \n",
       "3    CO[C@@]1(C)c2cccc3c2-c2c1ccc1c2[C@@H](C3)N(C)CC1            Ki   \n",
       "4   CCC1(CCCCN2CCN(c3ccc(Cl)cc3)CC2)C(=O)Nc2cc(F)c...            Ki   \n",
       "5   CC1CCN(CC[C@@H]2CCCCN2S(=O)(=O)c2cccc3ccccc23)CC1            Ki   \n",
       "6   CN1C[C@H](CNC(=O)OCc2ccccc2)C[C@@H]2c3cccc4[nH...            Ki   \n",
       "7          O=C1Nc2cccc3c2C1(CCN1CCN(c2ccccc2)CC1)CCC3            Ki   \n",
       "8   CC([C@H](C)CCN1CCC[C@H](C)C1)S(=O)(=O)c1cccc2c...            Ki   \n",
       "9   O=C1C2=C(CCCC2)C(=O)N1CCCCN1CCN(c2cccc(C(F)(F)...            Ki   \n",
       "10    Cc1ccccc1[C@@H](Nc1ccc(Cl)cc1Cl)C(=O)CCc1ccncc1            Ki   \n",
       "11                      CCc1[nH]c2ccc(OC)cc2c1CCN(C)C            Ki   \n",
       "12                               NC1=Nc2cccc(Cl)c2CN1            Ki   \n",
       "\n",
       "   Standard Relation  ...  HDonor Heteroatoms  RingCount SaturatedRings  \\\n",
       "0                '='  ...       1           6          5              1   \n",
       "1                '='  ...       1           5          5              1   \n",
       "2                '<'  ...       3           4          2              0   \n",
       "3                '='  ...       0           2          5              0   \n",
       "4                '='  ...       1           7          4              1   \n",
       "5                '='  ...       0           5          4              2   \n",
       "6                '='  ...       2           5          5              1   \n",
       "7                '='  ...       1           4          5              1   \n",
       "8                '='  ...       0           4          3              1   \n",
       "9                '='  ...       0           8          4              1   \n",
       "10               NaN  ...       1           5          3              0   \n",
       "11               '='  ...       1           3          2              0   \n",
       "12               '='  ...       2           4          2              0   \n",
       "\n",
       "   AliphaticRings AromaticRings           Ipc  HallKierAlpha  \\\n",
       "0               3             2  8.827271e+06          -2.47   \n",
       "1               3             2  8.827271e+06          -2.40   \n",
       "2               0             2  3.765162e+03          -1.81   \n",
       "3               3             2  2.291280e+05          -1.64   \n",
       "4               2             2  1.198720e+07          -1.82   \n",
       "5               2             2  3.031468e+06          -1.43   \n",
       "6               2             3  8.381975e+06          -2.79   \n",
       "7               3             2  3.337267e+06          -2.33   \n",
       "8               1             2  7.183453e+05          -1.39   \n",
       "9               3             1  1.138698e+07          -2.35   \n",
       "10              0             3  1.357407e+06          -2.36   \n",
       "11              0             2  1.514710e+04          -1.48   \n",
       "12              1             1  7.035166e+02          -1.22   \n",
       "\n",
       "    NumValenceElectrons                                              ECFP6  \n",
       "0                   152  [0, 0, 0, 0, 0, 0, 0, 0, 0, 0, 0, 0, 0, 0, 0, ...  \n",
       "1                   152  [0, 0, 0, 0, 0, 0, 0, 0, 0, 0, 0, 0, 0, 0, 0, ...  \n",
       "2                    78  [0, 0, 0, 0, 0, 0, 0, 0, 0, 0, 0, 0, 0, 0, 0, ...  \n",
       "3                   112  [0, 0, 0, 0, 0, 0, 0, 0, 0, 0, 0, 0, 0, 0, 0, ...  \n",
       "4                   166  [0, 0, 0, 0, 0, 0, 0, 0, 0, 0, 0, 0, 0, 0, 0, ...  \n",
       "5                   152  [0, 0, 0, 0, 0, 0, 0, 0, 0, 0, 0, 0, 0, 0, 0, ...  \n",
       "6                   150  [0, 0, 0, 0, 0, 0, 0, 0, 0, 0, 0, 0, 0, 0, 0, ...  \n",
       "7                   140  [0, 0, 0, 0, 0, 0, 0, 0, 0, 0, 0, 0, 0, 0, 0, ...  \n",
       "8                   142  [0, 1, 0, 0, 0, 0, 0, 0, 0, 0, 0, 1, 0, 0, 0, ...  \n",
       "9                   168  [0, 0, 0, 0, 0, 0, 0, 0, 0, 0, 0, 0, 0, 0, 0, ...  \n",
       "10                  138  [0, 1, 0, 0, 0, 0, 0, 0, 0, 0, 0, 0, 0, 0, 0, ...  \n",
       "11                   98  [0, 0, 0, 0, 0, 0, 0, 0, 0, 0, 0, 0, 0, 0, 0, ...  \n",
       "12                   62  [0, 0, 0, 0, 0, 0, 0, 0, 0, 0, 0, 0, 0, 0, 0, ...  \n",
       "\n",
       "[13 rows x 54 columns]"
      ]
     },
     "execution_count": 30,
     "metadata": {},
     "output_type": "execute_result"
    }
   ],
   "source": [
    "df.head(13)"
   ]
  },
  {
   "cell_type": "code",
   "execution_count": null,
   "metadata": {},
   "outputs": [],
   "source": []
  }
 ],
 "metadata": {
  "kernelspec": {
   "display_name": "Python 3",
   "language": "python",
   "name": "python3"
  },
  "language_info": {
   "codemirror_mode": {
    "name": "ipython",
    "version": 3
   },
   "file_extension": ".py",
   "mimetype": "text/x-python",
   "name": "python",
   "nbconvert_exporter": "python",
   "pygments_lexer": "ipython3",
   "version": "3.7.9"
  }
 },
 "nbformat": 4,
 "nbformat_minor": 4
}
